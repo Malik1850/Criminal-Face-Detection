{
  "nbformat": 4,
  "nbformat_minor": 0,
  "metadata": {
    "colab": {
      "provenance": [],
      "gpuType": "T4"
    },
    "kernelspec": {
      "name": "python3",
      "display_name": "Python 3"
    },
    "language_info": {
      "name": "python"
    },
    "accelerator": "GPU"
  },
  "cells": [
    {
      "cell_type": "code",
      "execution_count": 1,
      "metadata": {
        "id": "3QD8sgtgv89x"
      },
      "outputs": [],
      "source": [
        "import zipfile\n",
        "\n",
        "zip_path = '/content/Face Detection.v18-yolov8.yolov8.zip'  # Update with your file path\n",
        "extract_path = '/content/'\n",
        "\n",
        "with zipfile.ZipFile(zip_path, 'r') as zip_ref:\n",
        "    zip_ref.extractall(extract_path)\n"
      ]
    },
    {
      "cell_type": "code",
      "source": [
        "!pip install ultralytics"
      ],
      "metadata": {
        "colab": {
          "base_uri": "https://localhost:8080/"
        },
        "id": "7dhWDaLAwvYK",
        "outputId": "827a8cba-adfe-48dd-aa0f-aa1886b0cc9d"
      },
      "execution_count": 2,
      "outputs": [
        {
          "output_type": "stream",
          "name": "stdout",
          "text": [
            "Collecting ultralytics\n",
            "  Downloading ultralytics-8.3.31-py3-none-any.whl.metadata (35 kB)\n",
            "Requirement already satisfied: numpy>=1.23.0 in /usr/local/lib/python3.10/dist-packages (from ultralytics) (1.26.4)\n",
            "Requirement already satisfied: matplotlib>=3.3.0 in /usr/local/lib/python3.10/dist-packages (from ultralytics) (3.8.0)\n",
            "Requirement already satisfied: opencv-python>=4.6.0 in /usr/local/lib/python3.10/dist-packages (from ultralytics) (4.10.0.84)\n",
            "Requirement already satisfied: pillow>=7.1.2 in /usr/local/lib/python3.10/dist-packages (from ultralytics) (11.0.0)\n",
            "Requirement already satisfied: pyyaml>=5.3.1 in /usr/local/lib/python3.10/dist-packages (from ultralytics) (6.0.2)\n",
            "Requirement already satisfied: requests>=2.23.0 in /usr/local/lib/python3.10/dist-packages (from ultralytics) (2.32.3)\n",
            "Requirement already satisfied: scipy>=1.4.1 in /usr/local/lib/python3.10/dist-packages (from ultralytics) (1.13.1)\n",
            "Requirement already satisfied: torch>=1.8.0 in /usr/local/lib/python3.10/dist-packages (from ultralytics) (2.5.1+cu121)\n",
            "Requirement already satisfied: torchvision>=0.9.0 in /usr/local/lib/python3.10/dist-packages (from ultralytics) (0.20.1+cu121)\n",
            "Requirement already satisfied: tqdm>=4.64.0 in /usr/local/lib/python3.10/dist-packages (from ultralytics) (4.66.6)\n",
            "Requirement already satisfied: psutil in /usr/local/lib/python3.10/dist-packages (from ultralytics) (5.9.5)\n",
            "Requirement already satisfied: py-cpuinfo in /usr/local/lib/python3.10/dist-packages (from ultralytics) (9.0.0)\n",
            "Requirement already satisfied: pandas>=1.1.4 in /usr/local/lib/python3.10/dist-packages (from ultralytics) (2.2.2)\n",
            "Requirement already satisfied: seaborn>=0.11.0 in /usr/local/lib/python3.10/dist-packages (from ultralytics) (0.13.2)\n",
            "Collecting ultralytics-thop>=2.0.0 (from ultralytics)\n",
            "  Downloading ultralytics_thop-2.0.11-py3-none-any.whl.metadata (9.4 kB)\n",
            "Requirement already satisfied: contourpy>=1.0.1 in /usr/local/lib/python3.10/dist-packages (from matplotlib>=3.3.0->ultralytics) (1.3.1)\n",
            "Requirement already satisfied: cycler>=0.10 in /usr/local/lib/python3.10/dist-packages (from matplotlib>=3.3.0->ultralytics) (0.12.1)\n",
            "Requirement already satisfied: fonttools>=4.22.0 in /usr/local/lib/python3.10/dist-packages (from matplotlib>=3.3.0->ultralytics) (4.54.1)\n",
            "Requirement already satisfied: kiwisolver>=1.0.1 in /usr/local/lib/python3.10/dist-packages (from matplotlib>=3.3.0->ultralytics) (1.4.7)\n",
            "Requirement already satisfied: packaging>=20.0 in /usr/local/lib/python3.10/dist-packages (from matplotlib>=3.3.0->ultralytics) (24.2)\n",
            "Requirement already satisfied: pyparsing>=2.3.1 in /usr/local/lib/python3.10/dist-packages (from matplotlib>=3.3.0->ultralytics) (3.2.0)\n",
            "Requirement already satisfied: python-dateutil>=2.7 in /usr/local/lib/python3.10/dist-packages (from matplotlib>=3.3.0->ultralytics) (2.8.2)\n",
            "Requirement already satisfied: pytz>=2020.1 in /usr/local/lib/python3.10/dist-packages (from pandas>=1.1.4->ultralytics) (2024.2)\n",
            "Requirement already satisfied: tzdata>=2022.7 in /usr/local/lib/python3.10/dist-packages (from pandas>=1.1.4->ultralytics) (2024.2)\n",
            "Requirement already satisfied: charset-normalizer<4,>=2 in /usr/local/lib/python3.10/dist-packages (from requests>=2.23.0->ultralytics) (3.4.0)\n",
            "Requirement already satisfied: idna<4,>=2.5 in /usr/local/lib/python3.10/dist-packages (from requests>=2.23.0->ultralytics) (3.10)\n",
            "Requirement already satisfied: urllib3<3,>=1.21.1 in /usr/local/lib/python3.10/dist-packages (from requests>=2.23.0->ultralytics) (2.2.3)\n",
            "Requirement already satisfied: certifi>=2017.4.17 in /usr/local/lib/python3.10/dist-packages (from requests>=2.23.0->ultralytics) (2024.8.30)\n",
            "Requirement already satisfied: filelock in /usr/local/lib/python3.10/dist-packages (from torch>=1.8.0->ultralytics) (3.16.1)\n",
            "Requirement already satisfied: typing-extensions>=4.8.0 in /usr/local/lib/python3.10/dist-packages (from torch>=1.8.0->ultralytics) (4.12.2)\n",
            "Requirement already satisfied: networkx in /usr/local/lib/python3.10/dist-packages (from torch>=1.8.0->ultralytics) (3.4.2)\n",
            "Requirement already satisfied: jinja2 in /usr/local/lib/python3.10/dist-packages (from torch>=1.8.0->ultralytics) (3.1.4)\n",
            "Requirement already satisfied: fsspec in /usr/local/lib/python3.10/dist-packages (from torch>=1.8.0->ultralytics) (2024.10.0)\n",
            "Requirement already satisfied: sympy==1.13.1 in /usr/local/lib/python3.10/dist-packages (from torch>=1.8.0->ultralytics) (1.13.1)\n",
            "Requirement already satisfied: mpmath<1.4,>=1.1.0 in /usr/local/lib/python3.10/dist-packages (from sympy==1.13.1->torch>=1.8.0->ultralytics) (1.3.0)\n",
            "Requirement already satisfied: six>=1.5 in /usr/local/lib/python3.10/dist-packages (from python-dateutil>=2.7->matplotlib>=3.3.0->ultralytics) (1.16.0)\n",
            "Requirement already satisfied: MarkupSafe>=2.0 in /usr/local/lib/python3.10/dist-packages (from jinja2->torch>=1.8.0->ultralytics) (3.0.2)\n",
            "Downloading ultralytics-8.3.31-py3-none-any.whl (886 kB)\n",
            "\u001b[2K   \u001b[90m━━━━━━━━━━━━━━━━━━━━━━━━━━━━━━━━━━━━━━━━\u001b[0m \u001b[32m886.3/886.3 kB\u001b[0m \u001b[31m45.1 MB/s\u001b[0m eta \u001b[36m0:00:00\u001b[0m\n",
            "\u001b[?25hDownloading ultralytics_thop-2.0.11-py3-none-any.whl (26 kB)\n",
            "Installing collected packages: ultralytics-thop, ultralytics\n",
            "Successfully installed ultralytics-8.3.31 ultralytics-thop-2.0.11\n"
          ]
        }
      ]
    },
    {
      "cell_type": "code",
      "source": [
        "from ultralytics import YOLO\n",
        "\n",
        "# Load YOLOv10n model from scratch\n",
        "model = YOLO(\"yolov8n.yaml\")\n",
        "\n",
        "# Train the model\n",
        "model.train(data=\"/content/data.yaml\", epochs=20, imgsz=640)"
      ],
      "metadata": {
        "colab": {
          "base_uri": "https://localhost:8080/"
        },
        "id": "0QW8U0SSw3Zm",
        "outputId": "39534c8e-3c07-406a-81d4-ce990d30adce"
      },
      "execution_count": 3,
      "outputs": [
        {
          "output_type": "stream",
          "name": "stdout",
          "text": [
            "Creating new Ultralytics Settings v0.0.6 file ✅ \n",
            "View Ultralytics Settings with 'yolo settings' or at '/root/.config/Ultralytics/settings.json'\n",
            "Update Settings with 'yolo settings key=value', i.e. 'yolo settings runs_dir=path/to/dir'. For help see https://docs.ultralytics.com/quickstart/#ultralytics-settings.\n",
            "Ultralytics 8.3.31 🚀 Python-3.10.12 torch-2.5.1+cu121 CUDA:0 (Tesla T4, 15102MiB)\n",
            "\u001b[34m\u001b[1mengine/trainer: \u001b[0mtask=detect, mode=train, model=yolov8n.yaml, data=/content/data.yaml, epochs=20, time=None, patience=100, batch=16, imgsz=640, save=True, save_period=-1, cache=False, device=None, workers=8, project=None, name=train, exist_ok=False, pretrained=True, optimizer=auto, verbose=True, seed=0, deterministic=True, single_cls=False, rect=False, cos_lr=False, close_mosaic=10, resume=False, amp=True, fraction=1.0, profile=False, freeze=None, multi_scale=False, overlap_mask=True, mask_ratio=4, dropout=0.0, val=True, split=val, save_json=False, save_hybrid=False, conf=None, iou=0.7, max_det=300, half=False, dnn=False, plots=True, source=None, vid_stride=1, stream_buffer=False, visualize=False, augment=False, agnostic_nms=False, classes=None, retina_masks=False, embed=None, show=False, save_frames=False, save_txt=False, save_conf=False, save_crop=False, show_labels=True, show_conf=True, show_boxes=True, line_width=None, format=torchscript, keras=False, optimize=False, int8=False, dynamic=False, simplify=True, opset=None, workspace=4, nms=False, lr0=0.01, lrf=0.01, momentum=0.937, weight_decay=0.0005, warmup_epochs=3.0, warmup_momentum=0.8, warmup_bias_lr=0.1, box=7.5, cls=0.5, dfl=1.5, pose=12.0, kobj=1.0, label_smoothing=0.0, nbs=64, hsv_h=0.015, hsv_s=0.7, hsv_v=0.4, degrees=0.0, translate=0.1, scale=0.5, shear=0.0, perspective=0.0, flipud=0.0, fliplr=0.5, bgr=0.0, mosaic=1.0, mixup=0.0, copy_paste=0.0, copy_paste_mode=flip, auto_augment=randaugment, erasing=0.4, crop_fraction=1.0, cfg=None, tracker=botsort.yaml, save_dir=runs/detect/train\n",
            "Downloading https://ultralytics.com/assets/Arial.ttf to '/root/.config/Ultralytics/Arial.ttf'...\n"
          ]
        },
        {
          "output_type": "stream",
          "name": "stderr",
          "text": [
            "100%|██████████| 755k/755k [00:00<00:00, 126MB/s]\n"
          ]
        },
        {
          "output_type": "stream",
          "name": "stdout",
          "text": [
            "Overriding model.yaml nc=80 with nc=1\n",
            "\n",
            "                   from  n    params  module                                       arguments                     \n",
            "  0                  -1  1       464  ultralytics.nn.modules.conv.Conv             [3, 16, 3, 2]                 \n",
            "  1                  -1  1      4672  ultralytics.nn.modules.conv.Conv             [16, 32, 3, 2]                \n",
            "  2                  -1  1      7360  ultralytics.nn.modules.block.C2f             [32, 32, 1, True]             \n",
            "  3                  -1  1     18560  ultralytics.nn.modules.conv.Conv             [32, 64, 3, 2]                \n",
            "  4                  -1  2     49664  ultralytics.nn.modules.block.C2f             [64, 64, 2, True]             \n",
            "  5                  -1  1     73984  ultralytics.nn.modules.conv.Conv             [64, 128, 3, 2]               \n",
            "  6                  -1  2    197632  ultralytics.nn.modules.block.C2f             [128, 128, 2, True]           \n",
            "  7                  -1  1    295424  ultralytics.nn.modules.conv.Conv             [128, 256, 3, 2]              \n",
            "  8                  -1  1    460288  ultralytics.nn.modules.block.C2f             [256, 256, 1, True]           \n",
            "  9                  -1  1    164608  ultralytics.nn.modules.block.SPPF            [256, 256, 5]                 \n",
            " 10                  -1  1         0  torch.nn.modules.upsampling.Upsample         [None, 2, 'nearest']          \n",
            " 11             [-1, 6]  1         0  ultralytics.nn.modules.conv.Concat           [1]                           \n",
            " 12                  -1  1    148224  ultralytics.nn.modules.block.C2f             [384, 128, 1]                 \n",
            " 13                  -1  1         0  torch.nn.modules.upsampling.Upsample         [None, 2, 'nearest']          \n",
            " 14             [-1, 4]  1         0  ultralytics.nn.modules.conv.Concat           [1]                           \n",
            " 15                  -1  1     37248  ultralytics.nn.modules.block.C2f             [192, 64, 1]                  \n",
            " 16                  -1  1     36992  ultralytics.nn.modules.conv.Conv             [64, 64, 3, 2]                \n",
            " 17            [-1, 12]  1         0  ultralytics.nn.modules.conv.Concat           [1]                           \n",
            " 18                  -1  1    123648  ultralytics.nn.modules.block.C2f             [192, 128, 1]                 \n",
            " 19                  -1  1    147712  ultralytics.nn.modules.conv.Conv             [128, 128, 3, 2]              \n",
            " 20             [-1, 9]  1         0  ultralytics.nn.modules.conv.Concat           [1]                           \n",
            " 21                  -1  1    493056  ultralytics.nn.modules.block.C2f             [384, 256, 1]                 \n",
            " 22        [15, 18, 21]  1    751507  ultralytics.nn.modules.head.Detect           [1, [64, 128, 256]]           \n",
            "YOLOv8n summary: 225 layers, 3,011,043 parameters, 3,011,027 gradients, 8.2 GFLOPs\n",
            "\n",
            "\u001b[34m\u001b[1mTensorBoard: \u001b[0mStart with 'tensorboard --logdir runs/detect/train', view at http://localhost:6006/\n",
            "Freezing layer 'model.22.dfl.conv.weight'\n",
            "\u001b[34m\u001b[1mAMP: \u001b[0mrunning Automatic Mixed Precision (AMP) checks...\n",
            "Downloading https://github.com/ultralytics/assets/releases/download/v8.3.0/yolo11n.pt to 'yolo11n.pt'...\n"
          ]
        },
        {
          "output_type": "stream",
          "name": "stderr",
          "text": [
            "100%|██████████| 5.35M/5.35M [00:00<00:00, 287MB/s]\n"
          ]
        },
        {
          "output_type": "stream",
          "name": "stdout",
          "text": [
            "\u001b[34m\u001b[1mAMP: \u001b[0mchecks passed ✅\n"
          ]
        },
        {
          "output_type": "stream",
          "name": "stderr",
          "text": [
            "\u001b[34m\u001b[1mtrain: \u001b[0mScanning /content/train/labels... 2871 images, 536 backgrounds, 0 corrupt: 100%|██████████| 2871/2871 [00:01<00:00, 1988.19it/s]"
          ]
        },
        {
          "output_type": "stream",
          "name": "stdout",
          "text": [
            "\u001b[34m\u001b[1mtrain: \u001b[0mNew cache created: /content/train/labels.cache\n"
          ]
        },
        {
          "output_type": "stream",
          "name": "stderr",
          "text": [
            "\n"
          ]
        },
        {
          "output_type": "stream",
          "name": "stdout",
          "text": [
            "\u001b[34m\u001b[1malbumentations: \u001b[0mBlur(p=0.01, blur_limit=(3, 7)), MedianBlur(p=0.01, blur_limit=(3, 7)), ToGray(p=0.01, num_output_channels=3, method='weighted_average'), CLAHE(p=0.01, clip_limit=(1.0, 4.0), tile_grid_size=(8, 8))\n"
          ]
        },
        {
          "output_type": "stream",
          "name": "stderr",
          "text": [
            "/usr/local/lib/python3.10/dist-packages/albumentations/__init__.py:24: UserWarning: A new version of Albumentations is available: 1.4.21 (you have 1.4.20). Upgrade using: pip install -U albumentations. To disable automatic update checks, set the environment variable NO_ALBUMENTATIONS_UPDATE to 1.\n",
            "  check_for_updates()\n",
            "\u001b[34m\u001b[1mval: \u001b[0mScanning /content/valid/labels... 267 images, 50 backgrounds, 0 corrupt: 100%|██████████| 267/267 [00:00<00:00, 1533.27it/s]"
          ]
        },
        {
          "output_type": "stream",
          "name": "stdout",
          "text": [
            "\u001b[34m\u001b[1mval: \u001b[0mNew cache created: /content/valid/labels.cache\n"
          ]
        },
        {
          "output_type": "stream",
          "name": "stderr",
          "text": [
            "\n"
          ]
        },
        {
          "output_type": "stream",
          "name": "stdout",
          "text": [
            "Plotting labels to runs/detect/train/labels.jpg... \n",
            "\u001b[34m\u001b[1moptimizer:\u001b[0m 'optimizer=auto' found, ignoring 'lr0=0.01' and 'momentum=0.937' and determining best 'optimizer', 'lr0' and 'momentum' automatically... \n",
            "\u001b[34m\u001b[1moptimizer:\u001b[0m AdamW(lr=0.002, momentum=0.9) with parameter groups 57 weight(decay=0.0), 64 weight(decay=0.0005), 63 bias(decay=0.0)\n",
            "\u001b[34m\u001b[1mTensorBoard: \u001b[0mmodel graph visualization added ✅\n",
            "Image sizes 640 train, 640 val\n",
            "Using 2 dataloader workers\n",
            "Logging results to \u001b[1mruns/detect/train\u001b[0m\n",
            "Starting training for 20 epochs...\n",
            "\n",
            "      Epoch    GPU_mem   box_loss   cls_loss   dfl_loss  Instances       Size\n"
          ]
        },
        {
          "output_type": "stream",
          "name": "stderr",
          "text": [
            "       1/20      2.78G      3.428      3.988      3.907         41        640: 100%|██████████| 180/180 [01:00<00:00,  2.97it/s]\n",
            "                 Class     Images  Instances      Box(P          R      mAP50  mAP50-95): 100%|██████████| 9/9 [00:04<00:00,  1.99it/s]"
          ]
        },
        {
          "output_type": "stream",
          "name": "stdout",
          "text": [
            "                   all        267        506     0.0589      0.115     0.0192    0.00519\n"
          ]
        },
        {
          "output_type": "stream",
          "name": "stderr",
          "text": [
            "\n"
          ]
        },
        {
          "output_type": "stream",
          "name": "stdout",
          "text": [
            "\n",
            "      Epoch    GPU_mem   box_loss   cls_loss   dfl_loss  Instances       Size\n"
          ]
        },
        {
          "output_type": "stream",
          "name": "stderr",
          "text": [
            "       2/20      3.05G      2.858      3.494      3.177         24        640: 100%|██████████| 180/180 [00:58<00:00,  3.09it/s]\n",
            "                 Class     Images  Instances      Box(P          R      mAP50  mAP50-95): 100%|██████████| 9/9 [00:02<00:00,  3.32it/s]"
          ]
        },
        {
          "output_type": "stream",
          "name": "stdout",
          "text": [
            "                   all        267        506     0.0792      0.136     0.0362    0.00921\n"
          ]
        },
        {
          "output_type": "stream",
          "name": "stderr",
          "text": [
            "\n"
          ]
        },
        {
          "output_type": "stream",
          "name": "stdout",
          "text": [
            "\n",
            "      Epoch    GPU_mem   box_loss   cls_loss   dfl_loss  Instances       Size\n"
          ]
        },
        {
          "output_type": "stream",
          "name": "stderr",
          "text": [
            "       3/20      2.88G      2.454      3.076      2.784         32        640: 100%|██████████| 180/180 [00:57<00:00,  3.12it/s]\n",
            "                 Class     Images  Instances      Box(P          R      mAP50  mAP50-95): 100%|██████████| 9/9 [00:02<00:00,  3.80it/s]\n"
          ]
        },
        {
          "output_type": "stream",
          "name": "stdout",
          "text": [
            "                   all        267        506      0.124      0.213     0.0709     0.0213\n",
            "\n",
            "      Epoch    GPU_mem   box_loss   cls_loss   dfl_loss  Instances       Size\n"
          ]
        },
        {
          "output_type": "stream",
          "name": "stderr",
          "text": [
            "       4/20      2.75G       2.28      2.791      2.568         19        640: 100%|██████████| 180/180 [00:57<00:00,  3.15it/s]\n",
            "                 Class     Images  Instances      Box(P          R      mAP50  mAP50-95): 100%|██████████| 9/9 [00:03<00:00,  2.56it/s]\n"
          ]
        },
        {
          "output_type": "stream",
          "name": "stdout",
          "text": [
            "                   all        267        506      0.225      0.131     0.0896     0.0312\n",
            "\n",
            "      Epoch    GPU_mem   box_loss   cls_loss   dfl_loss  Instances       Size\n"
          ]
        },
        {
          "output_type": "stream",
          "name": "stderr",
          "text": [
            "       5/20      2.54G      2.151      2.554      2.412          6        640: 100%|██████████| 180/180 [00:59<00:00,  3.02it/s]\n",
            "                 Class     Images  Instances      Box(P          R      mAP50  mAP50-95): 100%|██████████| 9/9 [00:02<00:00,  3.33it/s]"
          ]
        },
        {
          "output_type": "stream",
          "name": "stdout",
          "text": [
            "                   all        267        506      0.362      0.328      0.269       0.11\n"
          ]
        },
        {
          "output_type": "stream",
          "name": "stderr",
          "text": [
            "\n"
          ]
        },
        {
          "output_type": "stream",
          "name": "stdout",
          "text": [
            "\n",
            "      Epoch    GPU_mem   box_loss   cls_loss   dfl_loss  Instances       Size\n"
          ]
        },
        {
          "output_type": "stream",
          "name": "stderr",
          "text": [
            "       6/20      3.22G      2.062      2.379      2.322         17        640: 100%|██████████| 180/180 [00:58<00:00,  3.10it/s]\n",
            "                 Class     Images  Instances      Box(P          R      mAP50  mAP50-95): 100%|██████████| 9/9 [00:02<00:00,  4.17it/s]"
          ]
        },
        {
          "output_type": "stream",
          "name": "stdout",
          "text": [
            "                   all        267        506       0.39      0.322      0.269      0.115\n"
          ]
        },
        {
          "output_type": "stream",
          "name": "stderr",
          "text": [
            "\n"
          ]
        },
        {
          "output_type": "stream",
          "name": "stdout",
          "text": [
            "\n",
            "      Epoch    GPU_mem   box_loss   cls_loss   dfl_loss  Instances       Size\n"
          ]
        },
        {
          "output_type": "stream",
          "name": "stderr",
          "text": [
            "       7/20      2.72G      1.991       2.23      2.226         15        640: 100%|██████████| 180/180 [00:57<00:00,  3.11it/s]\n",
            "                 Class     Images  Instances      Box(P          R      mAP50  mAP50-95): 100%|██████████| 9/9 [00:03<00:00,  2.89it/s]\n"
          ]
        },
        {
          "output_type": "stream",
          "name": "stdout",
          "text": [
            "                   all        267        506      0.599       0.37      0.416      0.175\n",
            "\n",
            "      Epoch    GPU_mem   box_loss   cls_loss   dfl_loss  Instances       Size\n"
          ]
        },
        {
          "output_type": "stream",
          "name": "stderr",
          "text": [
            "       8/20      2.89G      1.934      2.181      2.174         17        640: 100%|██████████| 180/180 [00:58<00:00,  3.08it/s]\n",
            "                 Class     Images  Instances      Box(P          R      mAP50  mAP50-95): 100%|██████████| 9/9 [00:03<00:00,  2.49it/s]"
          ]
        },
        {
          "output_type": "stream",
          "name": "stdout",
          "text": [
            "                   all        267        506        0.6      0.433      0.472      0.216\n"
          ]
        },
        {
          "output_type": "stream",
          "name": "stderr",
          "text": [
            "\n"
          ]
        },
        {
          "output_type": "stream",
          "name": "stdout",
          "text": [
            "\n",
            "      Epoch    GPU_mem   box_loss   cls_loss   dfl_loss  Instances       Size\n"
          ]
        },
        {
          "output_type": "stream",
          "name": "stderr",
          "text": [
            "       9/20      2.77G       1.88      2.077      2.119         30        640: 100%|██████████| 180/180 [00:57<00:00,  3.12it/s]\n",
            "                 Class     Images  Instances      Box(P          R      mAP50  mAP50-95): 100%|██████████| 9/9 [00:02<00:00,  3.80it/s]"
          ]
        },
        {
          "output_type": "stream",
          "name": "stdout",
          "text": [
            "                   all        267        506      0.568      0.446      0.474      0.209\n"
          ]
        },
        {
          "output_type": "stream",
          "name": "stderr",
          "text": [
            "\n"
          ]
        },
        {
          "output_type": "stream",
          "name": "stdout",
          "text": [
            "\n",
            "      Epoch    GPU_mem   box_loss   cls_loss   dfl_loss  Instances       Size\n"
          ]
        },
        {
          "output_type": "stream",
          "name": "stderr",
          "text": [
            "      10/20      3.27G      1.847      1.973      2.056         11        640: 100%|██████████| 180/180 [00:57<00:00,  3.13it/s]\n",
            "                 Class     Images  Instances      Box(P          R      mAP50  mAP50-95): 100%|██████████| 9/9 [00:02<00:00,  3.19it/s]"
          ]
        },
        {
          "output_type": "stream",
          "name": "stdout",
          "text": [
            "                   all        267        506       0.64      0.517      0.552      0.249\n"
          ]
        },
        {
          "output_type": "stream",
          "name": "stderr",
          "text": [
            "\n"
          ]
        },
        {
          "output_type": "stream",
          "name": "stdout",
          "text": [
            "Closing dataloader mosaic\n",
            "\u001b[34m\u001b[1malbumentations: \u001b[0mBlur(p=0.01, blur_limit=(3, 7)), MedianBlur(p=0.01, blur_limit=(3, 7)), ToGray(p=0.01, num_output_channels=3, method='weighted_average'), CLAHE(p=0.01, clip_limit=(1.0, 4.0), tile_grid_size=(8, 8))\n",
            "\n",
            "      Epoch    GPU_mem   box_loss   cls_loss   dfl_loss  Instances       Size\n"
          ]
        },
        {
          "output_type": "stream",
          "name": "stderr",
          "text": [
            "      11/20      2.72G      1.754      1.811      2.019          5        640: 100%|██████████| 180/180 [00:57<00:00,  3.12it/s]\n",
            "                 Class     Images  Instances      Box(P          R      mAP50  mAP50-95): 100%|██████████| 9/9 [00:04<00:00,  2.16it/s]"
          ]
        },
        {
          "output_type": "stream",
          "name": "stdout",
          "text": [
            "                   all        267        506      0.662      0.524      0.586      0.275\n"
          ]
        },
        {
          "output_type": "stream",
          "name": "stderr",
          "text": [
            "\n"
          ]
        },
        {
          "output_type": "stream",
          "name": "stdout",
          "text": [
            "\n",
            "      Epoch    GPU_mem   box_loss   cls_loss   dfl_loss  Instances       Size\n"
          ]
        },
        {
          "output_type": "stream",
          "name": "stderr",
          "text": [
            "      12/20      3.07G      1.725      1.713      2.003         30        640: 100%|██████████| 180/180 [00:55<00:00,  3.27it/s]\n",
            "                 Class     Images  Instances      Box(P          R      mAP50  mAP50-95): 100%|██████████| 9/9 [00:02<00:00,  3.82it/s]"
          ]
        },
        {
          "output_type": "stream",
          "name": "stdout",
          "text": [
            "                   all        267        506      0.595      0.516      0.559      0.263\n"
          ]
        },
        {
          "output_type": "stream",
          "name": "stderr",
          "text": [
            "\n"
          ]
        },
        {
          "output_type": "stream",
          "name": "stdout",
          "text": [
            "\n",
            "      Epoch    GPU_mem   box_loss   cls_loss   dfl_loss  Instances       Size\n"
          ]
        },
        {
          "output_type": "stream",
          "name": "stderr",
          "text": [
            "      13/20      3.09G      1.677      1.639      1.956          4        640: 100%|██████████| 180/180 [00:56<00:00,  3.21it/s]\n",
            "                 Class     Images  Instances      Box(P          R      mAP50  mAP50-95): 100%|██████████| 9/9 [00:02<00:00,  4.31it/s]"
          ]
        },
        {
          "output_type": "stream",
          "name": "stdout",
          "text": [
            "                   all        267        506      0.775      0.552      0.657      0.311\n"
          ]
        },
        {
          "output_type": "stream",
          "name": "stderr",
          "text": [
            "\n"
          ]
        },
        {
          "output_type": "stream",
          "name": "stdout",
          "text": [
            "\n",
            "      Epoch    GPU_mem   box_loss   cls_loss   dfl_loss  Instances       Size\n"
          ]
        },
        {
          "output_type": "stream",
          "name": "stderr",
          "text": [
            "      14/20      3.37G      1.627      1.563      1.911         12        640: 100%|██████████| 180/180 [00:56<00:00,  3.18it/s]\n",
            "                 Class     Images  Instances      Box(P          R      mAP50  mAP50-95): 100%|██████████| 9/9 [00:02<00:00,  3.93it/s]"
          ]
        },
        {
          "output_type": "stream",
          "name": "stdout",
          "text": [
            "                   all        267        506      0.791      0.543      0.651      0.332\n"
          ]
        },
        {
          "output_type": "stream",
          "name": "stderr",
          "text": [
            "\n"
          ]
        },
        {
          "output_type": "stream",
          "name": "stdout",
          "text": [
            "\n",
            "      Epoch    GPU_mem   box_loss   cls_loss   dfl_loss  Instances       Size\n"
          ]
        },
        {
          "output_type": "stream",
          "name": "stderr",
          "text": [
            "      15/20      2.72G      1.611      1.529      1.885          4        640: 100%|██████████| 180/180 [00:56<00:00,  3.19it/s]\n",
            "                 Class     Images  Instances      Box(P          R      mAP50  mAP50-95): 100%|██████████| 9/9 [00:02<00:00,  4.14it/s]"
          ]
        },
        {
          "output_type": "stream",
          "name": "stdout",
          "text": [
            "                   all        267        506      0.688      0.607      0.632        0.3\n"
          ]
        },
        {
          "output_type": "stream",
          "name": "stderr",
          "text": [
            "\n"
          ]
        },
        {
          "output_type": "stream",
          "name": "stdout",
          "text": [
            "\n",
            "      Epoch    GPU_mem   box_loss   cls_loss   dfl_loss  Instances       Size\n"
          ]
        },
        {
          "output_type": "stream",
          "name": "stderr",
          "text": [
            "      16/20      3.09G      1.547      1.475       1.84          5        640: 100%|██████████| 180/180 [00:55<00:00,  3.26it/s]\n",
            "                 Class     Images  Instances      Box(P          R      mAP50  mAP50-95): 100%|██████████| 9/9 [00:02<00:00,  4.36it/s]"
          ]
        },
        {
          "output_type": "stream",
          "name": "stdout",
          "text": [
            "                   all        267        506      0.739      0.592       0.67      0.367\n"
          ]
        },
        {
          "output_type": "stream",
          "name": "stderr",
          "text": [
            "\n"
          ]
        },
        {
          "output_type": "stream",
          "name": "stdout",
          "text": [
            "\n",
            "      Epoch    GPU_mem   box_loss   cls_loss   dfl_loss  Instances       Size\n"
          ]
        },
        {
          "output_type": "stream",
          "name": "stderr",
          "text": [
            "      17/20      2.69G      1.548      1.408      1.835         17        640: 100%|██████████| 180/180 [00:55<00:00,  3.27it/s]\n",
            "                 Class     Images  Instances      Box(P          R      mAP50  mAP50-95): 100%|██████████| 9/9 [00:02<00:00,  4.00it/s]"
          ]
        },
        {
          "output_type": "stream",
          "name": "stdout",
          "text": [
            "                   all        267        506      0.818      0.619      0.712      0.364\n"
          ]
        },
        {
          "output_type": "stream",
          "name": "stderr",
          "text": [
            "\n"
          ]
        },
        {
          "output_type": "stream",
          "name": "stdout",
          "text": [
            "\n",
            "      Epoch    GPU_mem   box_loss   cls_loss   dfl_loss  Instances       Size\n"
          ]
        },
        {
          "output_type": "stream",
          "name": "stderr",
          "text": [
            "      18/20      2.84G      1.498      1.361      1.784         11        640: 100%|██████████| 180/180 [00:55<00:00,  3.27it/s]\n",
            "                 Class     Images  Instances      Box(P          R      mAP50  mAP50-95): 100%|██████████| 9/9 [00:02<00:00,  3.57it/s]"
          ]
        },
        {
          "output_type": "stream",
          "name": "stdout",
          "text": [
            "                   all        267        506      0.804      0.608      0.705      0.374\n"
          ]
        },
        {
          "output_type": "stream",
          "name": "stderr",
          "text": [
            "\n"
          ]
        },
        {
          "output_type": "stream",
          "name": "stdout",
          "text": [
            "\n",
            "      Epoch    GPU_mem   box_loss   cls_loss   dfl_loss  Instances       Size\n"
          ]
        },
        {
          "output_type": "stream",
          "name": "stderr",
          "text": [
            "      19/20      3.07G       1.48      1.318      1.764         24        640: 100%|██████████| 180/180 [00:52<00:00,  3.42it/s]\n",
            "                 Class     Images  Instances      Box(P          R      mAP50  mAP50-95): 100%|██████████| 9/9 [00:03<00:00,  2.51it/s]\n"
          ]
        },
        {
          "output_type": "stream",
          "name": "stdout",
          "text": [
            "                   all        267        506      0.836      0.644      0.729      0.392\n",
            "\n",
            "      Epoch    GPU_mem   box_loss   cls_loss   dfl_loss  Instances       Size\n"
          ]
        },
        {
          "output_type": "stream",
          "name": "stderr",
          "text": [
            "      20/20      3.06G       1.46      1.274      1.744         21        640: 100%|██████████| 180/180 [00:52<00:00,  3.40it/s]\n",
            "                 Class     Images  Instances      Box(P          R      mAP50  mAP50-95): 100%|██████████| 9/9 [00:03<00:00,  2.42it/s]\n"
          ]
        },
        {
          "output_type": "stream",
          "name": "stdout",
          "text": [
            "                   all        267        506       0.84       0.64       0.73      0.381\n",
            "\n",
            "20 epochs completed in 0.338 hours.\n",
            "Optimizer stripped from runs/detect/train/weights/last.pt, 6.2MB\n",
            "Optimizer stripped from runs/detect/train/weights/best.pt, 6.2MB\n",
            "\n",
            "Validating runs/detect/train/weights/best.pt...\n",
            "WARNING ⚠️ validating an untrained model YAML will result in 0 mAP.\n",
            "Ultralytics 8.3.31 🚀 Python-3.10.12 torch-2.5.1+cu121 CUDA:0 (Tesla T4, 15102MiB)\n",
            "YOLOv8n summary (fused): 168 layers, 3,005,843 parameters, 0 gradients, 8.1 GFLOPs\n"
          ]
        },
        {
          "output_type": "stream",
          "name": "stderr",
          "text": [
            "                 Class     Images  Instances      Box(P          R      mAP50  mAP50-95): 100%|██████████| 9/9 [00:03<00:00,  2.33it/s]\n"
          ]
        },
        {
          "output_type": "stream",
          "name": "stdout",
          "text": [
            "                   all        267        506      0.838      0.644      0.729      0.392\n",
            "Speed: 0.3ms preprocess, 3.1ms inference, 0.0ms loss, 3.5ms postprocess per image\n",
            "Results saved to \u001b[1mruns/detect/train\u001b[0m\n"
          ]
        },
        {
          "output_type": "execute_result",
          "data": {
            "text/plain": [
              "ultralytics.utils.metrics.DetMetrics object with attributes:\n",
              "\n",
              "ap_class_index: array([0])\n",
              "box: ultralytics.utils.metrics.Metric object\n",
              "confusion_matrix: <ultralytics.utils.metrics.ConfusionMatrix object at 0x787e56e78310>\n",
              "curves: ['Precision-Recall(B)', 'F1-Confidence(B)', 'Precision-Confidence(B)', 'Recall-Confidence(B)']\n",
              "curves_results: [[array([          0,    0.001001,    0.002002,    0.003003,    0.004004,    0.005005,    0.006006,    0.007007,    0.008008,    0.009009,     0.01001,    0.011011,    0.012012,    0.013013,    0.014014,    0.015015,    0.016016,    0.017017,    0.018018,    0.019019,     0.02002,    0.021021,    0.022022,    0.023023,\n",
              "          0.024024,    0.025025,    0.026026,    0.027027,    0.028028,    0.029029,     0.03003,    0.031031,    0.032032,    0.033033,    0.034034,    0.035035,    0.036036,    0.037037,    0.038038,    0.039039,     0.04004,    0.041041,    0.042042,    0.043043,    0.044044,    0.045045,    0.046046,    0.047047,\n",
              "          0.048048,    0.049049,     0.05005,    0.051051,    0.052052,    0.053053,    0.054054,    0.055055,    0.056056,    0.057057,    0.058058,    0.059059,     0.06006,    0.061061,    0.062062,    0.063063,    0.064064,    0.065065,    0.066066,    0.067067,    0.068068,    0.069069,     0.07007,    0.071071,\n",
              "          0.072072,    0.073073,    0.074074,    0.075075,    0.076076,    0.077077,    0.078078,    0.079079,     0.08008,    0.081081,    0.082082,    0.083083,    0.084084,    0.085085,    0.086086,    0.087087,    0.088088,    0.089089,     0.09009,    0.091091,    0.092092,    0.093093,    0.094094,    0.095095,\n",
              "          0.096096,    0.097097,    0.098098,    0.099099,      0.1001,      0.1011,      0.1021,      0.1031,      0.1041,     0.10511,     0.10611,     0.10711,     0.10811,     0.10911,     0.11011,     0.11111,     0.11211,     0.11311,     0.11411,     0.11512,     0.11612,     0.11712,     0.11812,     0.11912,\n",
              "           0.12012,     0.12112,     0.12212,     0.12312,     0.12412,     0.12513,     0.12613,     0.12713,     0.12813,     0.12913,     0.13013,     0.13113,     0.13213,     0.13313,     0.13413,     0.13514,     0.13614,     0.13714,     0.13814,     0.13914,     0.14014,     0.14114,     0.14214,     0.14314,\n",
              "           0.14414,     0.14515,     0.14615,     0.14715,     0.14815,     0.14915,     0.15015,     0.15115,     0.15215,     0.15315,     0.15415,     0.15516,     0.15616,     0.15716,     0.15816,     0.15916,     0.16016,     0.16116,     0.16216,     0.16316,     0.16416,     0.16517,     0.16617,     0.16717,\n",
              "           0.16817,     0.16917,     0.17017,     0.17117,     0.17217,     0.17317,     0.17417,     0.17518,     0.17618,     0.17718,     0.17818,     0.17918,     0.18018,     0.18118,     0.18218,     0.18318,     0.18418,     0.18519,     0.18619,     0.18719,     0.18819,     0.18919,     0.19019,     0.19119,\n",
              "           0.19219,     0.19319,     0.19419,      0.1952,      0.1962,      0.1972,      0.1982,      0.1992,      0.2002,      0.2012,      0.2022,      0.2032,      0.2042,     0.20521,     0.20621,     0.20721,     0.20821,     0.20921,     0.21021,     0.21121,     0.21221,     0.21321,     0.21421,     0.21522,\n",
              "           0.21622,     0.21722,     0.21822,     0.21922,     0.22022,     0.22122,     0.22222,     0.22322,     0.22422,     0.22523,     0.22623,     0.22723,     0.22823,     0.22923,     0.23023,     0.23123,     0.23223,     0.23323,     0.23423,     0.23524,     0.23624,     0.23724,     0.23824,     0.23924,\n",
              "           0.24024,     0.24124,     0.24224,     0.24324,     0.24424,     0.24525,     0.24625,     0.24725,     0.24825,     0.24925,     0.25025,     0.25125,     0.25225,     0.25325,     0.25425,     0.25526,     0.25626,     0.25726,     0.25826,     0.25926,     0.26026,     0.26126,     0.26226,     0.26326,\n",
              "           0.26426,     0.26527,     0.26627,     0.26727,     0.26827,     0.26927,     0.27027,     0.27127,     0.27227,     0.27327,     0.27427,     0.27528,     0.27628,     0.27728,     0.27828,     0.27928,     0.28028,     0.28128,     0.28228,     0.28328,     0.28428,     0.28529,     0.28629,     0.28729,\n",
              "           0.28829,     0.28929,     0.29029,     0.29129,     0.29229,     0.29329,     0.29429,      0.2953,      0.2963,      0.2973,      0.2983,      0.2993,      0.3003,      0.3013,      0.3023,      0.3033,      0.3043,     0.30531,     0.30631,     0.30731,     0.30831,     0.30931,     0.31031,     0.31131,\n",
              "           0.31231,     0.31331,     0.31431,     0.31532,     0.31632,     0.31732,     0.31832,     0.31932,     0.32032,     0.32132,     0.32232,     0.32332,     0.32432,     0.32533,     0.32633,     0.32733,     0.32833,     0.32933,     0.33033,     0.33133,     0.33233,     0.33333,     0.33433,     0.33534,\n",
              "           0.33634,     0.33734,     0.33834,     0.33934,     0.34034,     0.34134,     0.34234,     0.34334,     0.34434,     0.34535,     0.34635,     0.34735,     0.34835,     0.34935,     0.35035,     0.35135,     0.35235,     0.35335,     0.35435,     0.35536,     0.35636,     0.35736,     0.35836,     0.35936,\n",
              "           0.36036,     0.36136,     0.36236,     0.36336,     0.36436,     0.36537,     0.36637,     0.36737,     0.36837,     0.36937,     0.37037,     0.37137,     0.37237,     0.37337,     0.37437,     0.37538,     0.37638,     0.37738,     0.37838,     0.37938,     0.38038,     0.38138,     0.38238,     0.38338,\n",
              "           0.38438,     0.38539,     0.38639,     0.38739,     0.38839,     0.38939,     0.39039,     0.39139,     0.39239,     0.39339,     0.39439,      0.3954,      0.3964,      0.3974,      0.3984,      0.3994,      0.4004,      0.4014,      0.4024,      0.4034,      0.4044,     0.40541,     0.40641,     0.40741,\n",
              "           0.40841,     0.40941,     0.41041,     0.41141,     0.41241,     0.41341,     0.41441,     0.41542,     0.41642,     0.41742,     0.41842,     0.41942,     0.42042,     0.42142,     0.42242,     0.42342,     0.42442,     0.42543,     0.42643,     0.42743,     0.42843,     0.42943,     0.43043,     0.43143,\n",
              "           0.43243,     0.43343,     0.43443,     0.43544,     0.43644,     0.43744,     0.43844,     0.43944,     0.44044,     0.44144,     0.44244,     0.44344,     0.44444,     0.44545,     0.44645,     0.44745,     0.44845,     0.44945,     0.45045,     0.45145,     0.45245,     0.45345,     0.45445,     0.45546,\n",
              "           0.45646,     0.45746,     0.45846,     0.45946,     0.46046,     0.46146,     0.46246,     0.46346,     0.46446,     0.46547,     0.46647,     0.46747,     0.46847,     0.46947,     0.47047,     0.47147,     0.47247,     0.47347,     0.47447,     0.47548,     0.47648,     0.47748,     0.47848,     0.47948,\n",
              "           0.48048,     0.48148,     0.48248,     0.48348,     0.48448,     0.48549,     0.48649,     0.48749,     0.48849,     0.48949,     0.49049,     0.49149,     0.49249,     0.49349,     0.49449,      0.4955,      0.4965,      0.4975,      0.4985,      0.4995,      0.5005,      0.5015,      0.5025,      0.5035,\n",
              "            0.5045,     0.50551,     0.50651,     0.50751,     0.50851,     0.50951,     0.51051,     0.51151,     0.51251,     0.51351,     0.51451,     0.51552,     0.51652,     0.51752,     0.51852,     0.51952,     0.52052,     0.52152,     0.52252,     0.52352,     0.52452,     0.52553,     0.52653,     0.52753,\n",
              "           0.52853,     0.52953,     0.53053,     0.53153,     0.53253,     0.53353,     0.53453,     0.53554,     0.53654,     0.53754,     0.53854,     0.53954,     0.54054,     0.54154,     0.54254,     0.54354,     0.54454,     0.54555,     0.54655,     0.54755,     0.54855,     0.54955,     0.55055,     0.55155,\n",
              "           0.55255,     0.55355,     0.55455,     0.55556,     0.55656,     0.55756,     0.55856,     0.55956,     0.56056,     0.56156,     0.56256,     0.56356,     0.56456,     0.56557,     0.56657,     0.56757,     0.56857,     0.56957,     0.57057,     0.57157,     0.57257,     0.57357,     0.57457,     0.57558,\n",
              "           0.57658,     0.57758,     0.57858,     0.57958,     0.58058,     0.58158,     0.58258,     0.58358,     0.58458,     0.58559,     0.58659,     0.58759,     0.58859,     0.58959,     0.59059,     0.59159,     0.59259,     0.59359,     0.59459,      0.5956,      0.5966,      0.5976,      0.5986,      0.5996,\n",
              "            0.6006,      0.6016,      0.6026,      0.6036,      0.6046,     0.60561,     0.60661,     0.60761,     0.60861,     0.60961,     0.61061,     0.61161,     0.61261,     0.61361,     0.61461,     0.61562,     0.61662,     0.61762,     0.61862,     0.61962,     0.62062,     0.62162,     0.62262,     0.62362,\n",
              "           0.62462,     0.62563,     0.62663,     0.62763,     0.62863,     0.62963,     0.63063,     0.63163,     0.63263,     0.63363,     0.63463,     0.63564,     0.63664,     0.63764,     0.63864,     0.63964,     0.64064,     0.64164,     0.64264,     0.64364,     0.64464,     0.64565,     0.64665,     0.64765,\n",
              "           0.64865,     0.64965,     0.65065,     0.65165,     0.65265,     0.65365,     0.65465,     0.65566,     0.65666,     0.65766,     0.65866,     0.65966,     0.66066,     0.66166,     0.66266,     0.66366,     0.66466,     0.66567,     0.66667,     0.66767,     0.66867,     0.66967,     0.67067,     0.67167,\n",
              "           0.67267,     0.67367,     0.67467,     0.67568,     0.67668,     0.67768,     0.67868,     0.67968,     0.68068,     0.68168,     0.68268,     0.68368,     0.68468,     0.68569,     0.68669,     0.68769,     0.68869,     0.68969,     0.69069,     0.69169,     0.69269,     0.69369,     0.69469,      0.6957,\n",
              "            0.6967,      0.6977,      0.6987,      0.6997,      0.7007,      0.7017,      0.7027,      0.7037,      0.7047,     0.70571,     0.70671,     0.70771,     0.70871,     0.70971,     0.71071,     0.71171,     0.71271,     0.71371,     0.71471,     0.71572,     0.71672,     0.71772,     0.71872,     0.71972,\n",
              "           0.72072,     0.72172,     0.72272,     0.72372,     0.72472,     0.72573,     0.72673,     0.72773,     0.72873,     0.72973,     0.73073,     0.73173,     0.73273,     0.73373,     0.73473,     0.73574,     0.73674,     0.73774,     0.73874,     0.73974,     0.74074,     0.74174,     0.74274,     0.74374,\n",
              "           0.74474,     0.74575,     0.74675,     0.74775,     0.74875,     0.74975,     0.75075,     0.75175,     0.75275,     0.75375,     0.75475,     0.75576,     0.75676,     0.75776,     0.75876,     0.75976,     0.76076,     0.76176,     0.76276,     0.76376,     0.76476,     0.76577,     0.76677,     0.76777,\n",
              "           0.76877,     0.76977,     0.77077,     0.77177,     0.77277,     0.77377,     0.77477,     0.77578,     0.77678,     0.77778,     0.77878,     0.77978,     0.78078,     0.78178,     0.78278,     0.78378,     0.78478,     0.78579,     0.78679,     0.78779,     0.78879,     0.78979,     0.79079,     0.79179,\n",
              "           0.79279,     0.79379,     0.79479,      0.7958,      0.7968,      0.7978,      0.7988,      0.7998,      0.8008,      0.8018,      0.8028,      0.8038,      0.8048,     0.80581,     0.80681,     0.80781,     0.80881,     0.80981,     0.81081,     0.81181,     0.81281,     0.81381,     0.81481,     0.81582,\n",
              "           0.81682,     0.81782,     0.81882,     0.81982,     0.82082,     0.82182,     0.82282,     0.82382,     0.82482,     0.82583,     0.82683,     0.82783,     0.82883,     0.82983,     0.83083,     0.83183,     0.83283,     0.83383,     0.83483,     0.83584,     0.83684,     0.83784,     0.83884,     0.83984,\n",
              "           0.84084,     0.84184,     0.84284,     0.84384,     0.84484,     0.84585,     0.84685,     0.84785,     0.84885,     0.84985,     0.85085,     0.85185,     0.85285,     0.85385,     0.85485,     0.85586,     0.85686,     0.85786,     0.85886,     0.85986,     0.86086,     0.86186,     0.86286,     0.86386,\n",
              "           0.86486,     0.86587,     0.86687,     0.86787,     0.86887,     0.86987,     0.87087,     0.87187,     0.87287,     0.87387,     0.87487,     0.87588,     0.87688,     0.87788,     0.87888,     0.87988,     0.88088,     0.88188,     0.88288,     0.88388,     0.88488,     0.88589,     0.88689,     0.88789,\n",
              "           0.88889,     0.88989,     0.89089,     0.89189,     0.89289,     0.89389,     0.89489,      0.8959,      0.8969,      0.8979,      0.8989,      0.8999,      0.9009,      0.9019,      0.9029,      0.9039,      0.9049,     0.90591,     0.90691,     0.90791,     0.90891,     0.90991,     0.91091,     0.91191,\n",
              "           0.91291,     0.91391,     0.91491,     0.91592,     0.91692,     0.91792,     0.91892,     0.91992,     0.92092,     0.92192,     0.92292,     0.92392,     0.92492,     0.92593,     0.92693,     0.92793,     0.92893,     0.92993,     0.93093,     0.93193,     0.93293,     0.93393,     0.93493,     0.93594,\n",
              "           0.93694,     0.93794,     0.93894,     0.93994,     0.94094,     0.94194,     0.94294,     0.94394,     0.94494,     0.94595,     0.94695,     0.94795,     0.94895,     0.94995,     0.95095,     0.95195,     0.95295,     0.95395,     0.95495,     0.95596,     0.95696,     0.95796,     0.95896,     0.95996,\n",
              "           0.96096,     0.96196,     0.96296,     0.96396,     0.96496,     0.96597,     0.96697,     0.96797,     0.96897,     0.96997,     0.97097,     0.97197,     0.97297,     0.97397,     0.97497,     0.97598,     0.97698,     0.97798,     0.97898,     0.97998,     0.98098,     0.98198,     0.98298,     0.98398,\n",
              "           0.98498,     0.98599,     0.98699,     0.98799,     0.98899,     0.98999,     0.99099,     0.99199,     0.99299,     0.99399,     0.99499,       0.996,       0.997,       0.998,       0.999,           1]), array([[          1,           1,           1,           1,           1,           1,           1,           1,           1,           1,           1,           1,           1,           1,           1,           1,           1,           1,           1,           1,           1,           1,           1,\n",
              "                  1,           1,           1,           1,           1,           1,           1,           1,           1,           1,           1,           1,           1,           1,           1,           1,           1,           1,           1,           1,           1,           1,           1,\n",
              "                  1,           1,           1,           1,           1,           1,           1,           1,           1,           1,           1,           1,           1,           1,           1,           1,           1,           1,           1,           1,           1,           1,           1,\n",
              "                  1,           1,           1,           1,           1,           1,           1,           1,           1,           1,           1,           1,           1,           1,           1,           1,           1,           1,           1,           1,           1,           1,           1,\n",
              "                  1,           1,           1,           1,           1,           1,           1,           1,           1,           1,           1,           1,           1,           1,           1,           1,           1,           1,           1,           1,           1,           1,           1,\n",
              "                  1,           1,           1,           1,           1,           1,           1,           1,           1,           1,           1,           1,           1,           1,           1,           1,           1,           1,           1,           1,           1,           1,           1,\n",
              "                  1,           1,           1,           1,           1,           1,           1,           1,           1,           1,           1,           1,           1,           1,           1,           1,           1,           1,           1,           1,           1,           1,           1,\n",
              "                  1,           1,           1,           1,           1,           1,           1,           1,           1,           1,           1,           1,           1,           1,           1,           1,           1,           1,           1,           1,           1,           1,           1,\n",
              "                  1,           1,           1,           1,           1,           1,           1,           1,           1,           1,           1,           1,           1,           1,           1,           1,           1,           1,           1,           1,           1,           1,           1,\n",
              "                  1,           1,           1,           1,           1,           1,           1,           1,           1,           1,           1,           1,           1,           1,           1,           1,           1,           1,           1,           1,           1,           1,           1,\n",
              "                  1,           1,           1,           1,           1,           1,           1,           1,           1,           1,           1,           1,           1,           1,           1,           1,           1,           1,           1,           1,           1,           1,           1,\n",
              "                  1,           1,           1,           1,           1,           1,           1,           1,           1,           1,           1,           1,           1,           1,           1,           1,           1,           1,           1,           1,           1,           1,           1,\n",
              "                  1,           1,           1,           1,           1,           1,           1,           1,           1,           1,           1,           1,           1,           1,           1,           1,           1,           1,           1,           1,           1,           1,           1,\n",
              "                  1,           1,           1,           1,           1,           1,           1,           1,           1,           1,           1,           1,           1,           1,           1,     0.99383,     0.99383,     0.99383,     0.99383,     0.98788,     0.98788,     0.98788,     0.98788,\n",
              "            0.98324,     0.98324,     0.98324,     0.98324,     0.98324,     0.98324,     0.98324,     0.98324,     0.98324,     0.98324,     0.98324,     0.98324,     0.98324,     0.98324,     0.98324,     0.98324,     0.98324,     0.98324,     0.98324,     0.98324,     0.98324,     0.98324,     0.98324,\n",
              "            0.98324,     0.98324,     0.98324,     0.97326,     0.97326,     0.97326,     0.97326,     0.97326,     0.97326,     0.97326,     0.97326,     0.97326,     0.97326,     0.97326,     0.97326,      0.9717,      0.9717,      0.9717,      0.9717,      0.9717,      0.9717,      0.9717,      0.9717,\n",
              "             0.9717,      0.9717,      0.9717,      0.9717,      0.9717,      0.9717,      0.9717,      0.9717,      0.9717,      0.9717,      0.9717,      0.9717,      0.9717,      0.9717,      0.9717,      0.9717,      0.9717,      0.9717,      0.9717,      0.9717,      0.9717,      0.9717,      0.9717,\n",
              "             0.9717,      0.9717,      0.9717,      0.9717,      0.9717,      0.9717,      0.9717,      0.9717,      0.9717,      0.9717,      0.9717,      0.9717,      0.9717,      0.9717,      0.9717,      0.9717,     0.96744,     0.96744,     0.96744,     0.96744,     0.96313,     0.96313,     0.95575,\n",
              "            0.95575,     0.95575,     0.95575,     0.95575,     0.95575,     0.95575,     0.95575,     0.95575,     0.95575,     0.95575,     0.95575,     0.95575,     0.95575,     0.95175,     0.95175,     0.94872,     0.94872,     0.94872,     0.94872,     0.94872,     0.94872,     0.94872,     0.94872,\n",
              "            0.94872,     0.94872,     0.94561,     0.94561,     0.94561,     0.94561,     0.94561,     0.94561,     0.94561,     0.94561,     0.94355,     0.94355,     0.94355,     0.94355,     0.94355,     0.94355,     0.94355,     0.94355,     0.94355,     0.94355,     0.94355,     0.94355,     0.94355,\n",
              "            0.94355,     0.94355,     0.94094,     0.94094,     0.94094,     0.94094,     0.94094,     0.94094,     0.94094,     0.94094,     0.94094,     0.94094,      0.9375,      0.9375,     0.93561,     0.93561,     0.93561,     0.93561,     0.93561,     0.93561,     0.93561,     0.93561,     0.93561,\n",
              "            0.93561,     0.93561,     0.93561,     0.93561,     0.93561,     0.93309,     0.93309,     0.93309,     0.93309,     0.93309,     0.93309,     0.93309,     0.93309,     0.92857,     0.92857,     0.92857,     0.92857,     0.92857,     0.92857,     0.92857,     0.92857,     0.92857,     0.92857,\n",
              "            0.92857,     0.92857,     0.92857,     0.92857,     0.92857,     0.92857,     0.92857,     0.92857,      0.9193,      0.9193,      0.9193,      0.9193,     0.91753,     0.91753,     0.91753,     0.91753,     0.91753,     0.91753,     0.91753,     0.91753,     0.91753,     0.91753,     0.91497,\n",
              "            0.91497,     0.91497,     0.91497,     0.91216,     0.91216,     0.91118,     0.91118,     0.91118,     0.91118,     0.91118,     0.91118,     0.91118,     0.91118,     0.91118,     0.91118,     0.91118,     0.91118,     0.91118,     0.90939,     0.90939,     0.90939,     0.90939,     0.90939,\n",
              "            0.90939,     0.90939,     0.90939,     0.90312,     0.90312,     0.90312,     0.90312,     0.90312,     0.90312,     0.90312,     0.90312,     0.90312,     0.90312,     0.90312,     0.90312,     0.90312,     0.90312,     0.90312,     0.90312,     0.90123,     0.90123,     0.90123,     0.90123,\n",
              "            0.90123,     0.90123,     0.89602,     0.89602,     0.89189,     0.89189,     0.89189,     0.89189,     0.89189,     0.89189,     0.89189,     0.89189,     0.88955,     0.88955,     0.88496,     0.88496,     0.88496,     0.88496,      0.8827,      0.8827,     0.87608,     0.87608,     0.87608,\n",
              "            0.87608,     0.87608,     0.87608,     0.87393,     0.87393,     0.87179,     0.87179,     0.87006,     0.87006,     0.87006,     0.87006,     0.86798,     0.86798,     0.86351,     0.86351,     0.86188,     0.86188,     0.86188,     0.85792,     0.85792,     0.85792,     0.85792,     0.85676,\n",
              "            0.85676,     0.85676,     0.85676,     0.85676,     0.85676,     0.85146,     0.85146,     0.85146,     0.85146,     0.85146,     0.85146,     0.85146,     0.85146,     0.84595,     0.84595,     0.84595,     0.84595,     0.84595,     0.84595,     0.84456,     0.84456,     0.84456,     0.84456,\n",
              "            0.83846,     0.83846,     0.83715,     0.83715,     0.83715,     0.83715,     0.82915,     0.82915,     0.82134,     0.82134,     0.81975,     0.81975,     0.81818,     0.81818,     0.80872,     0.80872,     0.79762,     0.79762,     0.79059,     0.79059,     0.79021,     0.79021,     0.79021,\n",
              "            0.79021,     0.79021,     0.79021,     0.78161,     0.78161,     0.76116,     0.76116,     0.73866,     0.73866,     0.73763,     0.73763,     0.73561,     0.73561,     0.73561,     0.73561,     0.70612,     0.70612,     0.70303,     0.70303,     0.70303,     0.70303,       0.698,       0.698,\n",
              "            0.68359,     0.68359,     0.68155,     0.67954,     0.67954,     0.67495,     0.67495,     0.67429,     0.67429,     0.66981,     0.66981,     0.65265,     0.65265,     0.65265,     0.65265,     0.65154,     0.65154,     0.65154,     0.65154,     0.64982,     0.64982,     0.64695,     0.64695,\n",
              "            0.63958,     0.63958,     0.61139,     0.61139,     0.61139,     0.61139,     0.61139,     0.61139,     0.60496,     0.60496,     0.59772,     0.59772,     0.58852,     0.58852,     0.58852,     0.58852,     0.58176,     0.58176,     0.56555,     0.56555,     0.56449,     0.56449,     0.53902,\n",
              "            0.53902,     0.50268,     0.50268,     0.50268,     0.50268,     0.49279,     0.49279,     0.49025,     0.49025,     0.48966,     0.48966,     0.48966,     0.48966,     0.47219,     0.47219,     0.47219,     0.47219,     0.47219,     0.47219,     0.46879,     0.46879,     0.46715,     0.46715,\n",
              "            0.45508,     0.45508,     0.45252,     0.45252,     0.44637,     0.44637,     0.44495,     0.44495,     0.44154,     0.44154,      0.4189,     0.41507,     0.41507,     0.41481,     0.41481,     0.40725,     0.40725,     0.40204,     0.40204,     0.37799,     0.37799,     0.36565,     0.36565,\n",
              "            0.35289,     0.35289,     0.31713,     0.31713,     0.30412,     0.30412,     0.30105,     0.30105,     0.30105,     0.30105,       0.298,       0.298,     0.29118,     0.29118,     0.28193,     0.28193,     0.27036,     0.27036,     0.26781,     0.26781,     0.26776,     0.26776,      0.2517,\n",
              "             0.2517,     0.25046,     0.25046,     0.25046,     0.25046,     0.24392,     0.24392,     0.24193,     0.24193,     0.22957,     0.22957,     0.22115,     0.22115,     0.21436,     0.21436,     0.20233,     0.20233,     0.20184,     0.20184,     0.20115,     0.20115,     0.17415,     0.17415,\n",
              "            0.17206,     0.17206,     0.16955,     0.16955,     0.16556,     0.16556,     0.16238,     0.16238,     0.15274,     0.15274,     0.15217,     0.15217,     0.15176,     0.15176,     0.14857,     0.14857,     0.14658,     0.14658,     0.14537,     0.14343,     0.14343,     0.14343,     0.14343,\n",
              "            0.13671,     0.13671,     0.13233,     0.13233,     0.13095,     0.13095,     0.13095,     0.13095,     0.12543,     0.12543,     0.11798,     0.11798,     0.11787,     0.11787,     0.11729,     0.11729,     0.10851,     0.10851,     0.10782,     0.10782,      0.1017,      0.1017,    0.093737,\n",
              "           0.093737,    0.091754,    0.091754,    0.082209,    0.082209,    0.075164,    0.075164,    0.075164,    0.075164,    0.067663,    0.067663,    0.064595,    0.064595,    0.056356,    0.056356,    0.054482,    0.054482,    0.053504,    0.053504,    0.051361,    0.051361,    0.049547,    0.049547,\n",
              "           0.045036,    0.045036,    0.044246,    0.044246,    0.036605,    0.036232,    0.035858,    0.035485,    0.035111,    0.034737,    0.034364,     0.03399,    0.033617,    0.033243,     0.03287,    0.032496,    0.032123,    0.031749,    0.031376,    0.031002,    0.030629,    0.030255,    0.029882,\n",
              "           0.029508,    0.029135,    0.028761,    0.028388,    0.028014,    0.027641,    0.027267,    0.026894,     0.02652,    0.026146,    0.025773,    0.025399,    0.025026,    0.024652,    0.024279,    0.023905,    0.023532,    0.023158,    0.022785,    0.022411,    0.022038,    0.021664,    0.021291,\n",
              "           0.020917,    0.020544,     0.02017,    0.019797,    0.019423,     0.01905,    0.018676,    0.018303,    0.017929,    0.017556,    0.017182,    0.016808,    0.016435,    0.016061,    0.015688,    0.015314,    0.014941,    0.014567,    0.014194,     0.01382,    0.013447,    0.013073,      0.0127,\n",
              "           0.012326,    0.011953,    0.011579,    0.011206,    0.010832,    0.010459,    0.010085,   0.0097116,    0.009338,   0.0089645,    0.008591,   0.0082175,   0.0078439,   0.0074704,   0.0070969,   0.0067234,   0.0063499,   0.0059763,   0.0056028,   0.0052293,   0.0048558,   0.0044823,   0.0041087,\n",
              "          0.0037352,   0.0033617,   0.0029882,   0.0026146,   0.0022411,   0.0018676,   0.0014941,   0.0011206,  0.00074704,  0.00037352,           0]]), 'Recall', 'Precision'], [array([          0,    0.001001,    0.002002,    0.003003,    0.004004,    0.005005,    0.006006,    0.007007,    0.008008,    0.009009,     0.01001,    0.011011,    0.012012,    0.013013,    0.014014,    0.015015,    0.016016,    0.017017,    0.018018,    0.019019,     0.02002,    0.021021,    0.022022,    0.023023,\n",
              "          0.024024,    0.025025,    0.026026,    0.027027,    0.028028,    0.029029,     0.03003,    0.031031,    0.032032,    0.033033,    0.034034,    0.035035,    0.036036,    0.037037,    0.038038,    0.039039,     0.04004,    0.041041,    0.042042,    0.043043,    0.044044,    0.045045,    0.046046,    0.047047,\n",
              "          0.048048,    0.049049,     0.05005,    0.051051,    0.052052,    0.053053,    0.054054,    0.055055,    0.056056,    0.057057,    0.058058,    0.059059,     0.06006,    0.061061,    0.062062,    0.063063,    0.064064,    0.065065,    0.066066,    0.067067,    0.068068,    0.069069,     0.07007,    0.071071,\n",
              "          0.072072,    0.073073,    0.074074,    0.075075,    0.076076,    0.077077,    0.078078,    0.079079,     0.08008,    0.081081,    0.082082,    0.083083,    0.084084,    0.085085,    0.086086,    0.087087,    0.088088,    0.089089,     0.09009,    0.091091,    0.092092,    0.093093,    0.094094,    0.095095,\n",
              "          0.096096,    0.097097,    0.098098,    0.099099,      0.1001,      0.1011,      0.1021,      0.1031,      0.1041,     0.10511,     0.10611,     0.10711,     0.10811,     0.10911,     0.11011,     0.11111,     0.11211,     0.11311,     0.11411,     0.11512,     0.11612,     0.11712,     0.11812,     0.11912,\n",
              "           0.12012,     0.12112,     0.12212,     0.12312,     0.12412,     0.12513,     0.12613,     0.12713,     0.12813,     0.12913,     0.13013,     0.13113,     0.13213,     0.13313,     0.13413,     0.13514,     0.13614,     0.13714,     0.13814,     0.13914,     0.14014,     0.14114,     0.14214,     0.14314,\n",
              "           0.14414,     0.14515,     0.14615,     0.14715,     0.14815,     0.14915,     0.15015,     0.15115,     0.15215,     0.15315,     0.15415,     0.15516,     0.15616,     0.15716,     0.15816,     0.15916,     0.16016,     0.16116,     0.16216,     0.16316,     0.16416,     0.16517,     0.16617,     0.16717,\n",
              "           0.16817,     0.16917,     0.17017,     0.17117,     0.17217,     0.17317,     0.17417,     0.17518,     0.17618,     0.17718,     0.17818,     0.17918,     0.18018,     0.18118,     0.18218,     0.18318,     0.18418,     0.18519,     0.18619,     0.18719,     0.18819,     0.18919,     0.19019,     0.19119,\n",
              "           0.19219,     0.19319,     0.19419,      0.1952,      0.1962,      0.1972,      0.1982,      0.1992,      0.2002,      0.2012,      0.2022,      0.2032,      0.2042,     0.20521,     0.20621,     0.20721,     0.20821,     0.20921,     0.21021,     0.21121,     0.21221,     0.21321,     0.21421,     0.21522,\n",
              "           0.21622,     0.21722,     0.21822,     0.21922,     0.22022,     0.22122,     0.22222,     0.22322,     0.22422,     0.22523,     0.22623,     0.22723,     0.22823,     0.22923,     0.23023,     0.23123,     0.23223,     0.23323,     0.23423,     0.23524,     0.23624,     0.23724,     0.23824,     0.23924,\n",
              "           0.24024,     0.24124,     0.24224,     0.24324,     0.24424,     0.24525,     0.24625,     0.24725,     0.24825,     0.24925,     0.25025,     0.25125,     0.25225,     0.25325,     0.25425,     0.25526,     0.25626,     0.25726,     0.25826,     0.25926,     0.26026,     0.26126,     0.26226,     0.26326,\n",
              "           0.26426,     0.26527,     0.26627,     0.26727,     0.26827,     0.26927,     0.27027,     0.27127,     0.27227,     0.27327,     0.27427,     0.27528,     0.27628,     0.27728,     0.27828,     0.27928,     0.28028,     0.28128,     0.28228,     0.28328,     0.28428,     0.28529,     0.28629,     0.28729,\n",
              "           0.28829,     0.28929,     0.29029,     0.29129,     0.29229,     0.29329,     0.29429,      0.2953,      0.2963,      0.2973,      0.2983,      0.2993,      0.3003,      0.3013,      0.3023,      0.3033,      0.3043,     0.30531,     0.30631,     0.30731,     0.30831,     0.30931,     0.31031,     0.31131,\n",
              "           0.31231,     0.31331,     0.31431,     0.31532,     0.31632,     0.31732,     0.31832,     0.31932,     0.32032,     0.32132,     0.32232,     0.32332,     0.32432,     0.32533,     0.32633,     0.32733,     0.32833,     0.32933,     0.33033,     0.33133,     0.33233,     0.33333,     0.33433,     0.33534,\n",
              "           0.33634,     0.33734,     0.33834,     0.33934,     0.34034,     0.34134,     0.34234,     0.34334,     0.34434,     0.34535,     0.34635,     0.34735,     0.34835,     0.34935,     0.35035,     0.35135,     0.35235,     0.35335,     0.35435,     0.35536,     0.35636,     0.35736,     0.35836,     0.35936,\n",
              "           0.36036,     0.36136,     0.36236,     0.36336,     0.36436,     0.36537,     0.36637,     0.36737,     0.36837,     0.36937,     0.37037,     0.37137,     0.37237,     0.37337,     0.37437,     0.37538,     0.37638,     0.37738,     0.37838,     0.37938,     0.38038,     0.38138,     0.38238,     0.38338,\n",
              "           0.38438,     0.38539,     0.38639,     0.38739,     0.38839,     0.38939,     0.39039,     0.39139,     0.39239,     0.39339,     0.39439,      0.3954,      0.3964,      0.3974,      0.3984,      0.3994,      0.4004,      0.4014,      0.4024,      0.4034,      0.4044,     0.40541,     0.40641,     0.40741,\n",
              "           0.40841,     0.40941,     0.41041,     0.41141,     0.41241,     0.41341,     0.41441,     0.41542,     0.41642,     0.41742,     0.41842,     0.41942,     0.42042,     0.42142,     0.42242,     0.42342,     0.42442,     0.42543,     0.42643,     0.42743,     0.42843,     0.42943,     0.43043,     0.43143,\n",
              "           0.43243,     0.43343,     0.43443,     0.43544,     0.43644,     0.43744,     0.43844,     0.43944,     0.44044,     0.44144,     0.44244,     0.44344,     0.44444,     0.44545,     0.44645,     0.44745,     0.44845,     0.44945,     0.45045,     0.45145,     0.45245,     0.45345,     0.45445,     0.45546,\n",
              "           0.45646,     0.45746,     0.45846,     0.45946,     0.46046,     0.46146,     0.46246,     0.46346,     0.46446,     0.46547,     0.46647,     0.46747,     0.46847,     0.46947,     0.47047,     0.47147,     0.47247,     0.47347,     0.47447,     0.47548,     0.47648,     0.47748,     0.47848,     0.47948,\n",
              "           0.48048,     0.48148,     0.48248,     0.48348,     0.48448,     0.48549,     0.48649,     0.48749,     0.48849,     0.48949,     0.49049,     0.49149,     0.49249,     0.49349,     0.49449,      0.4955,      0.4965,      0.4975,      0.4985,      0.4995,      0.5005,      0.5015,      0.5025,      0.5035,\n",
              "            0.5045,     0.50551,     0.50651,     0.50751,     0.50851,     0.50951,     0.51051,     0.51151,     0.51251,     0.51351,     0.51451,     0.51552,     0.51652,     0.51752,     0.51852,     0.51952,     0.52052,     0.52152,     0.52252,     0.52352,     0.52452,     0.52553,     0.52653,     0.52753,\n",
              "           0.52853,     0.52953,     0.53053,     0.53153,     0.53253,     0.53353,     0.53453,     0.53554,     0.53654,     0.53754,     0.53854,     0.53954,     0.54054,     0.54154,     0.54254,     0.54354,     0.54454,     0.54555,     0.54655,     0.54755,     0.54855,     0.54955,     0.55055,     0.55155,\n",
              "           0.55255,     0.55355,     0.55455,     0.55556,     0.55656,     0.55756,     0.55856,     0.55956,     0.56056,     0.56156,     0.56256,     0.56356,     0.56456,     0.56557,     0.56657,     0.56757,     0.56857,     0.56957,     0.57057,     0.57157,     0.57257,     0.57357,     0.57457,     0.57558,\n",
              "           0.57658,     0.57758,     0.57858,     0.57958,     0.58058,     0.58158,     0.58258,     0.58358,     0.58458,     0.58559,     0.58659,     0.58759,     0.58859,     0.58959,     0.59059,     0.59159,     0.59259,     0.59359,     0.59459,      0.5956,      0.5966,      0.5976,      0.5986,      0.5996,\n",
              "            0.6006,      0.6016,      0.6026,      0.6036,      0.6046,     0.60561,     0.60661,     0.60761,     0.60861,     0.60961,     0.61061,     0.61161,     0.61261,     0.61361,     0.61461,     0.61562,     0.61662,     0.61762,     0.61862,     0.61962,     0.62062,     0.62162,     0.62262,     0.62362,\n",
              "           0.62462,     0.62563,     0.62663,     0.62763,     0.62863,     0.62963,     0.63063,     0.63163,     0.63263,     0.63363,     0.63463,     0.63564,     0.63664,     0.63764,     0.63864,     0.63964,     0.64064,     0.64164,     0.64264,     0.64364,     0.64464,     0.64565,     0.64665,     0.64765,\n",
              "           0.64865,     0.64965,     0.65065,     0.65165,     0.65265,     0.65365,     0.65465,     0.65566,     0.65666,     0.65766,     0.65866,     0.65966,     0.66066,     0.66166,     0.66266,     0.66366,     0.66466,     0.66567,     0.66667,     0.66767,     0.66867,     0.66967,     0.67067,     0.67167,\n",
              "           0.67267,     0.67367,     0.67467,     0.67568,     0.67668,     0.67768,     0.67868,     0.67968,     0.68068,     0.68168,     0.68268,     0.68368,     0.68468,     0.68569,     0.68669,     0.68769,     0.68869,     0.68969,     0.69069,     0.69169,     0.69269,     0.69369,     0.69469,      0.6957,\n",
              "            0.6967,      0.6977,      0.6987,      0.6997,      0.7007,      0.7017,      0.7027,      0.7037,      0.7047,     0.70571,     0.70671,     0.70771,     0.70871,     0.70971,     0.71071,     0.71171,     0.71271,     0.71371,     0.71471,     0.71572,     0.71672,     0.71772,     0.71872,     0.71972,\n",
              "           0.72072,     0.72172,     0.72272,     0.72372,     0.72472,     0.72573,     0.72673,     0.72773,     0.72873,     0.72973,     0.73073,     0.73173,     0.73273,     0.73373,     0.73473,     0.73574,     0.73674,     0.73774,     0.73874,     0.73974,     0.74074,     0.74174,     0.74274,     0.74374,\n",
              "           0.74474,     0.74575,     0.74675,     0.74775,     0.74875,     0.74975,     0.75075,     0.75175,     0.75275,     0.75375,     0.75475,     0.75576,     0.75676,     0.75776,     0.75876,     0.75976,     0.76076,     0.76176,     0.76276,     0.76376,     0.76476,     0.76577,     0.76677,     0.76777,\n",
              "           0.76877,     0.76977,     0.77077,     0.77177,     0.77277,     0.77377,     0.77477,     0.77578,     0.77678,     0.77778,     0.77878,     0.77978,     0.78078,     0.78178,     0.78278,     0.78378,     0.78478,     0.78579,     0.78679,     0.78779,     0.78879,     0.78979,     0.79079,     0.79179,\n",
              "           0.79279,     0.79379,     0.79479,      0.7958,      0.7968,      0.7978,      0.7988,      0.7998,      0.8008,      0.8018,      0.8028,      0.8038,      0.8048,     0.80581,     0.80681,     0.80781,     0.80881,     0.80981,     0.81081,     0.81181,     0.81281,     0.81381,     0.81481,     0.81582,\n",
              "           0.81682,     0.81782,     0.81882,     0.81982,     0.82082,     0.82182,     0.82282,     0.82382,     0.82482,     0.82583,     0.82683,     0.82783,     0.82883,     0.82983,     0.83083,     0.83183,     0.83283,     0.83383,     0.83483,     0.83584,     0.83684,     0.83784,     0.83884,     0.83984,\n",
              "           0.84084,     0.84184,     0.84284,     0.84384,     0.84484,     0.84585,     0.84685,     0.84785,     0.84885,     0.84985,     0.85085,     0.85185,     0.85285,     0.85385,     0.85485,     0.85586,     0.85686,     0.85786,     0.85886,     0.85986,     0.86086,     0.86186,     0.86286,     0.86386,\n",
              "           0.86486,     0.86587,     0.86687,     0.86787,     0.86887,     0.86987,     0.87087,     0.87187,     0.87287,     0.87387,     0.87487,     0.87588,     0.87688,     0.87788,     0.87888,     0.87988,     0.88088,     0.88188,     0.88288,     0.88388,     0.88488,     0.88589,     0.88689,     0.88789,\n",
              "           0.88889,     0.88989,     0.89089,     0.89189,     0.89289,     0.89389,     0.89489,      0.8959,      0.8969,      0.8979,      0.8989,      0.8999,      0.9009,      0.9019,      0.9029,      0.9039,      0.9049,     0.90591,     0.90691,     0.90791,     0.90891,     0.90991,     0.91091,     0.91191,\n",
              "           0.91291,     0.91391,     0.91491,     0.91592,     0.91692,     0.91792,     0.91892,     0.91992,     0.92092,     0.92192,     0.92292,     0.92392,     0.92492,     0.92593,     0.92693,     0.92793,     0.92893,     0.92993,     0.93093,     0.93193,     0.93293,     0.93393,     0.93493,     0.93594,\n",
              "           0.93694,     0.93794,     0.93894,     0.93994,     0.94094,     0.94194,     0.94294,     0.94394,     0.94494,     0.94595,     0.94695,     0.94795,     0.94895,     0.94995,     0.95095,     0.95195,     0.95295,     0.95395,     0.95495,     0.95596,     0.95696,     0.95796,     0.95896,     0.95996,\n",
              "           0.96096,     0.96196,     0.96296,     0.96396,     0.96496,     0.96597,     0.96697,     0.96797,     0.96897,     0.96997,     0.97097,     0.97197,     0.97297,     0.97397,     0.97497,     0.97598,     0.97698,     0.97798,     0.97898,     0.97998,     0.98098,     0.98198,     0.98298,     0.98398,\n",
              "           0.98498,     0.98599,     0.98699,     0.98799,     0.98899,     0.98999,     0.99099,     0.99199,     0.99299,     0.99399,     0.99499,       0.996,       0.997,       0.998,       0.999,           1]), array([[   0.070846,    0.070846,    0.095217,     0.11197,     0.12586,      0.1371,     0.14789,     0.15628,     0.16491,     0.17278,     0.18163,     0.18958,     0.19771,     0.20571,     0.21222,     0.21981,     0.22646,     0.23431,     0.24051,     0.24515,     0.25081,     0.25724,     0.26206,\n",
              "            0.26874,     0.27371,     0.27733,     0.28268,     0.28791,     0.29326,     0.29739,     0.30298,     0.30805,     0.31238,      0.3185,     0.32346,     0.32564,     0.32994,     0.33319,     0.33852,     0.34439,     0.34905,     0.35414,     0.35878,     0.36382,     0.36871,     0.37221,\n",
              "             0.3748,     0.37924,     0.38177,     0.38542,     0.38864,     0.39316,     0.39787,     0.40103,     0.40325,     0.40749,     0.41039,      0.4135,     0.41726,      0.4214,      0.4253,     0.42889,     0.43288,     0.43518,     0.43602,     0.43816,     0.43902,      0.4427,      0.4467,\n",
              "            0.44925,     0.45217,     0.45504,     0.45815,     0.46031,     0.46428,     0.46798,     0.47072,     0.47359,     0.47604,     0.47895,     0.48326,     0.48552,     0.48706,     0.49048,     0.49307,     0.49812,     0.49899,     0.50167,     0.50468,     0.50769,     0.50919,     0.51072,\n",
              "            0.51355,     0.51478,     0.51681,      0.5202,     0.52194,     0.52468,      0.5271,     0.52885,     0.53061,     0.53278,     0.53351,     0.53592,     0.53731,      0.5402,     0.54144,       0.542,     0.54287,     0.54567,     0.54751,     0.54968,      0.5528,     0.55561,     0.55746,\n",
              "            0.55926,     0.56102,     0.56228,     0.56329,     0.56425,     0.56713,     0.56924,      0.5693,     0.57309,     0.57606,     0.57725,     0.57829,      0.5787,     0.57778,     0.57873,      0.5807,     0.58328,     0.58447,     0.58642,     0.58772,     0.59023,      0.5913,      0.5907,\n",
              "            0.59251,     0.59216,     0.59394,     0.59512,     0.59897,     0.59797,     0.59916,     0.60356,     0.60653,     0.60755,     0.60906,     0.61108,     0.61362,     0.61618,     0.61684,     0.61814,     0.61919,     0.62074,     0.62158,     0.62233,     0.62307,     0.62467,     0.62957,\n",
              "             0.6299,     0.63406,     0.63666,     0.63828,     0.63776,     0.63852,     0.63746,     0.64054,     0.64268,     0.64329,     0.64596,     0.64742,     0.64949,      0.6495,     0.65326,     0.65481,     0.65498,     0.65427,     0.65538,     0.65564,     0.65589,      0.6564,     0.65689,\n",
              "            0.65766,      0.6588,     0.65898,     0.65946,     0.65978,     0.66118,     0.66018,     0.65947,     0.66088,     0.66187,     0.66347,     0.66476,      0.6667,     0.66871,     0.66921,     0.67023,     0.67081,     0.67229,     0.67375,      0.6742,     0.67523,     0.67502,     0.67658,\n",
              "            0.67827,     0.67911,     0.67811,     0.67844,     0.67903,     0.67839,     0.67701,     0.67753,     0.67801,     0.67765,     0.67718,     0.67639,     0.67647,     0.67835,     0.68063,     0.68275,     0.68309,     0.68355,     0.68511,     0.68433,     0.68583,     0.68556,       0.687,\n",
              "            0.68749,     0.68719,     0.68717,     0.68659,     0.68747,     0.68687,     0.68714,     0.68746,     0.68798,     0.68891,     0.69123,     0.69226,     0.69318,     0.69381,     0.69335,     0.69284,     0.69429,     0.69524,      0.6937,     0.69543,     0.69698,     0.69794,     0.69935,\n",
              "            0.69984,     0.70032,     0.70213,     0.70246,     0.70285,     0.70334,     0.70647,     0.70721,     0.70765,     0.70579,     0.70629,     0.70493,      0.7054,     0.70733,     0.70887,     0.71082,     0.71139,      0.7124,     0.71303,     0.71369,     0.71397,     0.71489,     0.71708,\n",
              "             0.7178,     0.71857,     0.71917,     0.71981,     0.72086,     0.72205,      0.7223,     0.72254,     0.72154,     0.72199,     0.72375,     0.72469,     0.72472,     0.72378,     0.72344,     0.72311,     0.72278,     0.72245,     0.72114,     0.72138,     0.72183,     0.72269,     0.72369,\n",
              "            0.72503,     0.72623,     0.72653,     0.72682,     0.72632,     0.72678,     0.72748,     0.72802,     0.72825,     0.72849,     0.72832,     0.72816,     0.72728,      0.7285,     0.72898,     0.72939,     0.72969,     0.72999,     0.72942,     0.72977,     0.73007,     0.73042,     0.73089,\n",
              "            0.72946,     0.72948,     0.72976,     0.72851,     0.72865,     0.72879,     0.72893,     0.72907,     0.72921,     0.72936,     0.72954,     0.72973,     0.72992,      0.7301,     0.73087,     0.73065,     0.73032,        0.73,     0.72967,      0.7285,     0.72717,     0.72678,     0.72638,\n",
              "            0.72579,      0.7248,     0.72528,     0.72601,     0.72685,     0.72562,     0.72488,     0.72415,     0.72361,     0.72307,     0.72198,     0.72264,     0.72275,      0.7209,     0.71976,     0.72018,     0.71975,     0.71932,     0.71889,     0.71774,     0.71826,     0.71857,     0.71887,\n",
              "            0.71852,     0.71811,     0.71771,     0.71617,     0.71531,      0.7154,     0.71549,     0.71558,     0.71567,     0.71577,     0.71586,     0.71595,     0.71604,      0.7168,     0.71629,     0.71578,     0.71575,     0.71458,     0.71402,     0.71346,     0.71344,     0.71367,      0.7139,\n",
              "            0.71411,     0.71378,     0.71346,     0.71314,     0.71281,     0.71268,     0.71283,     0.71297,     0.71312,     0.71327,     0.71342,     0.71217,     0.71139,     0.70845,     0.70944,     0.70987,     0.71019,      0.7105,     0.71039,     0.70996,     0.70957,     0.70918,     0.70878,\n",
              "             0.7078,     0.70727,      0.7077,     0.70842,     0.70813,     0.70735,     0.70778,     0.70738,     0.70659,     0.70483,     0.70404,     0.70314,     0.70193,     0.70279,      0.7021,     0.70168,     0.70007,     0.69896,     0.69915,     0.69933,     0.69951,     0.69969,     0.69872,\n",
              "             0.6971,     0.69389,     0.69067,     0.68742,     0.68855,     0.68924,     0.68883,     0.68842,     0.68801,     0.68723,      0.6864,     0.68557,     0.68474,     0.68418,     0.68363,     0.68316,     0.68387,     0.68292,     0.68201,     0.68117,     0.68051,      0.6801,     0.67968,\n",
              "            0.67926,     0.67818,     0.67485,     0.67381,     0.67324,     0.67268,     0.67262,     0.67283,     0.67305,     0.67326,     0.67206,     0.67232,     0.67205,     0.67148,     0.67092,     0.66992,     0.66951,     0.66893,     0.66836,     0.66779,     0.66722,     0.66664,     0.66578,\n",
              "            0.66494,     0.66436,     0.66379,     0.66317,      0.6623,     0.66171,     0.66213,     0.66223,     0.66136,     0.66023,      0.6591,      0.6592,     0.65931,     0.65942,     0.65953,     0.65963,     0.65974,     0.65985,     0.66035,     0.66097,      0.6614,     0.66053,     0.65878,\n",
              "            0.65703,     0.65527,      0.6535,     0.65086,     0.65027,     0.64967,     0.64814,     0.64677,     0.64727,      0.6477,     0.64264,     0.64084,     0.64093,     0.64114,     0.64135,     0.64152,     0.64062,     0.63794,     0.63703,     0.63612,     0.63521,     0.63413,     0.63051,\n",
              "            0.62919,     0.62962,     0.62983,     0.62953,     0.62922,     0.62891,      0.6286,      0.6283,      0.6283,     0.62873,     0.62807,     0.62699,     0.62668,     0.62637,     0.62606,     0.62575,     0.62544,     0.62231,     0.62006,     0.62034,     0.62062,     0.62022,      0.6196,\n",
              "            0.61897,     0.61732,     0.61673,     0.61639,     0.61605,      0.6157,     0.61536,     0.61473,     0.61378,     0.61234,     0.61044,     0.60853,     0.60614,     0.60518,     0.60359,     0.60166,     0.59938,     0.59966,     0.59994,     0.59975,     0.59943,      0.5991,     0.59878,\n",
              "            0.59846,     0.59813,     0.59721,     0.59624,      0.5905,     0.58937,     0.59001,     0.58714,     0.58322,     0.58182,     0.58082,     0.58003,     0.57937,      0.5787,     0.57803,     0.57736,     0.57669,     0.57744,     0.57754,     0.57765,     0.57776,     0.57787,     0.57798,\n",
              "            0.57809,     0.57766,     0.57666,     0.57632,     0.57659,     0.57687,     0.57637,     0.57536,     0.57337,     0.57344,      0.5694,     0.56735,     0.56328,     0.56121,     0.55914,     0.55705,      0.5533,     0.55225,     0.55129,     0.55045,      0.5496,     0.54754,     0.54699,\n",
              "            0.54647,     0.54594,     0.54527,     0.54291,     0.53681,     0.53627,     0.53574,      0.5352,     0.53453,     0.53382,      0.5331,     0.52458,     0.52276,     0.52166,     0.51842,     0.51732,     0.51606,     0.51458,     0.51311,     0.51321,      0.5133,     0.51339,     0.51348,\n",
              "            0.51357,     0.51366,     0.51375,     0.51384,     0.51231,     0.51134,     0.51084,     0.51034,     0.50985,     0.50803,     0.50543,     0.50449,     0.50374,     0.50298,     0.50152,     0.49965,     0.49738,      0.4951,     0.49387,     0.49349,     0.49311,     0.49273,     0.49235,\n",
              "            0.49197,     0.49121,     0.49029,     0.48902,     0.48551,     0.48435,     0.48181,     0.48138,      0.4806,     0.47982,     0.47833,     0.47796,     0.47744,     0.47691,     0.47639,     0.47575,     0.47318,     0.46987,     0.46607,     0.46512,     0.46389,      0.4619,     0.46143,\n",
              "            0.46095,     0.46047,     0.45999,     0.45886,     0.45645,     0.45465,     0.45385,     0.45304,     0.45228,     0.45159,      0.4509,     0.44545,     0.44496,     0.44447,     0.44398,     0.44349,     0.44028,     0.43734,     0.43294,     0.43223,     0.43152,     0.43053,     0.42887,\n",
              "            0.42754,     0.42629,     0.42221,     0.41916,     0.41642,     0.41467,     0.41349,     0.41285,     0.41221,     0.41157,     0.40982,     0.40777,     0.40102,     0.39929,     0.39698,     0.39094,     0.39019,     0.38944,     0.38869,     0.38783,     0.38696,     0.38608,     0.38281,\n",
              "            0.38215,     0.38148,     0.38082,     0.37908,     0.37493,     0.37359,      0.3715,     0.36975,     0.36867,     0.36749,     0.36569,     0.36195,     0.35951,     0.35815,     0.35643,      0.3529,     0.35124,     0.35055,     0.34986,     0.34917,     0.34662,      0.3447,     0.34285,\n",
              "            0.34099,     0.34029,     0.33959,     0.33889,     0.33775,     0.33222,     0.33128,     0.33034,     0.32876,     0.32606,     0.32145,     0.32031,     0.31917,     0.31273,     0.31081,     0.30381,     0.29976,     0.29366,     0.28945,     0.28826,     0.28187,     0.27586,     0.27197,\n",
              "            0.26995,     0.26792,     0.26391,     0.26188,     0.25716,     0.25378,     0.25172,     0.24965,     0.24862,     0.24793,     0.24723,     0.24654,     0.24565,      0.2444,     0.24315,     0.23855,     0.23698,      0.2269,     0.22531,     0.21717,     0.21513,     0.21459,     0.21405,\n",
              "            0.21352,     0.21298,     0.21244,     0.21062,     0.20648,     0.19894,     0.19763,     0.19631,     0.19336,     0.19145,     0.18979,     0.18664,     0.18433,     0.18159,     0.17661,     0.17322,     0.16983,     0.16651,     0.16424,     0.15931,     0.15816,     0.15702,     0.15626,\n",
              "            0.15569,     0.15511,     0.15454,     0.15396,     0.15339,     0.14944,     0.14805,     0.14666,     0.14255,     0.14115,     0.13975,     0.13873,     0.13773,     0.13672,      0.1324,     0.13162,     0.13083,     0.13005,       0.129,     0.12663,     0.12426,     0.12211,     0.12068,\n",
              "            0.11924,     0.11752,     0.11573,     0.11444,     0.11324,     0.11203,     0.10683,      0.1042,     0.10274,     0.10124,    0.097697,    0.096649,      0.0956,     0.09455,     0.09374,     0.09307,    0.092401,     0.09173,    0.091059,    0.090076,    0.088227,    0.086491,    0.085006,\n",
              "           0.083519,    0.080072,    0.078352,    0.076854,    0.071514,    0.069629,    0.066776,    0.063997,    0.062097,    0.059823,    0.057451,    0.056359,    0.055265,     0.05417,    0.049911,    0.049054,    0.048197,     0.04734,    0.046481,    0.044733,    0.042795,    0.040853,    0.038907,\n",
              "           0.030948,    0.030535,    0.030121,    0.029707,    0.029293,    0.028879,    0.028465,     0.02805,    0.027635,    0.027202,    0.026676,     0.02615,    0.025624,    0.025097,     0.02457,    0.024043,    0.023516,    0.022919,     0.02231,      0.0217,     0.02109,     0.02048,    0.019869,\n",
              "            0.01754,    0.015077,    0.013936,    0.012794,    0.011748,    0.011414,     0.01108,    0.010746,    0.010412,    0.010078,   0.0097437,   0.0094093,   0.0090748,   0.0087402,   0.0084054,   0.0080706,   0.0076992,   0.0072759,   0.0068525,   0.0064288,    0.006005,    0.005581,   0.0051568,\n",
              "          0.0047324,   0.0043079,           0,           0,           0,           0,           0,           0,           0,           0,           0,           0,           0,           0,           0,           0,           0,           0,           0,           0,           0,           0,           0,\n",
              "                  0,           0,           0,           0,           0,           0,           0,           0,           0,           0,           0,           0,           0,           0,           0,           0,           0,           0,           0,           0,           0,           0,           0,\n",
              "                  0,           0,           0,           0,           0,           0,           0,           0,           0,           0,           0]]), 'Confidence', 'F1'], [array([          0,    0.001001,    0.002002,    0.003003,    0.004004,    0.005005,    0.006006,    0.007007,    0.008008,    0.009009,     0.01001,    0.011011,    0.012012,    0.013013,    0.014014,    0.015015,    0.016016,    0.017017,    0.018018,    0.019019,     0.02002,    0.021021,    0.022022,    0.023023,\n",
              "          0.024024,    0.025025,    0.026026,    0.027027,    0.028028,    0.029029,     0.03003,    0.031031,    0.032032,    0.033033,    0.034034,    0.035035,    0.036036,    0.037037,    0.038038,    0.039039,     0.04004,    0.041041,    0.042042,    0.043043,    0.044044,    0.045045,    0.046046,    0.047047,\n",
              "          0.048048,    0.049049,     0.05005,    0.051051,    0.052052,    0.053053,    0.054054,    0.055055,    0.056056,    0.057057,    0.058058,    0.059059,     0.06006,    0.061061,    0.062062,    0.063063,    0.064064,    0.065065,    0.066066,    0.067067,    0.068068,    0.069069,     0.07007,    0.071071,\n",
              "          0.072072,    0.073073,    0.074074,    0.075075,    0.076076,    0.077077,    0.078078,    0.079079,     0.08008,    0.081081,    0.082082,    0.083083,    0.084084,    0.085085,    0.086086,    0.087087,    0.088088,    0.089089,     0.09009,    0.091091,    0.092092,    0.093093,    0.094094,    0.095095,\n",
              "          0.096096,    0.097097,    0.098098,    0.099099,      0.1001,      0.1011,      0.1021,      0.1031,      0.1041,     0.10511,     0.10611,     0.10711,     0.10811,     0.10911,     0.11011,     0.11111,     0.11211,     0.11311,     0.11411,     0.11512,     0.11612,     0.11712,     0.11812,     0.11912,\n",
              "           0.12012,     0.12112,     0.12212,     0.12312,     0.12412,     0.12513,     0.12613,     0.12713,     0.12813,     0.12913,     0.13013,     0.13113,     0.13213,     0.13313,     0.13413,     0.13514,     0.13614,     0.13714,     0.13814,     0.13914,     0.14014,     0.14114,     0.14214,     0.14314,\n",
              "           0.14414,     0.14515,     0.14615,     0.14715,     0.14815,     0.14915,     0.15015,     0.15115,     0.15215,     0.15315,     0.15415,     0.15516,     0.15616,     0.15716,     0.15816,     0.15916,     0.16016,     0.16116,     0.16216,     0.16316,     0.16416,     0.16517,     0.16617,     0.16717,\n",
              "           0.16817,     0.16917,     0.17017,     0.17117,     0.17217,     0.17317,     0.17417,     0.17518,     0.17618,     0.17718,     0.17818,     0.17918,     0.18018,     0.18118,     0.18218,     0.18318,     0.18418,     0.18519,     0.18619,     0.18719,     0.18819,     0.18919,     0.19019,     0.19119,\n",
              "           0.19219,     0.19319,     0.19419,      0.1952,      0.1962,      0.1972,      0.1982,      0.1992,      0.2002,      0.2012,      0.2022,      0.2032,      0.2042,     0.20521,     0.20621,     0.20721,     0.20821,     0.20921,     0.21021,     0.21121,     0.21221,     0.21321,     0.21421,     0.21522,\n",
              "           0.21622,     0.21722,     0.21822,     0.21922,     0.22022,     0.22122,     0.22222,     0.22322,     0.22422,     0.22523,     0.22623,     0.22723,     0.22823,     0.22923,     0.23023,     0.23123,     0.23223,     0.23323,     0.23423,     0.23524,     0.23624,     0.23724,     0.23824,     0.23924,\n",
              "           0.24024,     0.24124,     0.24224,     0.24324,     0.24424,     0.24525,     0.24625,     0.24725,     0.24825,     0.24925,     0.25025,     0.25125,     0.25225,     0.25325,     0.25425,     0.25526,     0.25626,     0.25726,     0.25826,     0.25926,     0.26026,     0.26126,     0.26226,     0.26326,\n",
              "           0.26426,     0.26527,     0.26627,     0.26727,     0.26827,     0.26927,     0.27027,     0.27127,     0.27227,     0.27327,     0.27427,     0.27528,     0.27628,     0.27728,     0.27828,     0.27928,     0.28028,     0.28128,     0.28228,     0.28328,     0.28428,     0.28529,     0.28629,     0.28729,\n",
              "           0.28829,     0.28929,     0.29029,     0.29129,     0.29229,     0.29329,     0.29429,      0.2953,      0.2963,      0.2973,      0.2983,      0.2993,      0.3003,      0.3013,      0.3023,      0.3033,      0.3043,     0.30531,     0.30631,     0.30731,     0.30831,     0.30931,     0.31031,     0.31131,\n",
              "           0.31231,     0.31331,     0.31431,     0.31532,     0.31632,     0.31732,     0.31832,     0.31932,     0.32032,     0.32132,     0.32232,     0.32332,     0.32432,     0.32533,     0.32633,     0.32733,     0.32833,     0.32933,     0.33033,     0.33133,     0.33233,     0.33333,     0.33433,     0.33534,\n",
              "           0.33634,     0.33734,     0.33834,     0.33934,     0.34034,     0.34134,     0.34234,     0.34334,     0.34434,     0.34535,     0.34635,     0.34735,     0.34835,     0.34935,     0.35035,     0.35135,     0.35235,     0.35335,     0.35435,     0.35536,     0.35636,     0.35736,     0.35836,     0.35936,\n",
              "           0.36036,     0.36136,     0.36236,     0.36336,     0.36436,     0.36537,     0.36637,     0.36737,     0.36837,     0.36937,     0.37037,     0.37137,     0.37237,     0.37337,     0.37437,     0.37538,     0.37638,     0.37738,     0.37838,     0.37938,     0.38038,     0.38138,     0.38238,     0.38338,\n",
              "           0.38438,     0.38539,     0.38639,     0.38739,     0.38839,     0.38939,     0.39039,     0.39139,     0.39239,     0.39339,     0.39439,      0.3954,      0.3964,      0.3974,      0.3984,      0.3994,      0.4004,      0.4014,      0.4024,      0.4034,      0.4044,     0.40541,     0.40641,     0.40741,\n",
              "           0.40841,     0.40941,     0.41041,     0.41141,     0.41241,     0.41341,     0.41441,     0.41542,     0.41642,     0.41742,     0.41842,     0.41942,     0.42042,     0.42142,     0.42242,     0.42342,     0.42442,     0.42543,     0.42643,     0.42743,     0.42843,     0.42943,     0.43043,     0.43143,\n",
              "           0.43243,     0.43343,     0.43443,     0.43544,     0.43644,     0.43744,     0.43844,     0.43944,     0.44044,     0.44144,     0.44244,     0.44344,     0.44444,     0.44545,     0.44645,     0.44745,     0.44845,     0.44945,     0.45045,     0.45145,     0.45245,     0.45345,     0.45445,     0.45546,\n",
              "           0.45646,     0.45746,     0.45846,     0.45946,     0.46046,     0.46146,     0.46246,     0.46346,     0.46446,     0.46547,     0.46647,     0.46747,     0.46847,     0.46947,     0.47047,     0.47147,     0.47247,     0.47347,     0.47447,     0.47548,     0.47648,     0.47748,     0.47848,     0.47948,\n",
              "           0.48048,     0.48148,     0.48248,     0.48348,     0.48448,     0.48549,     0.48649,     0.48749,     0.48849,     0.48949,     0.49049,     0.49149,     0.49249,     0.49349,     0.49449,      0.4955,      0.4965,      0.4975,      0.4985,      0.4995,      0.5005,      0.5015,      0.5025,      0.5035,\n",
              "            0.5045,     0.50551,     0.50651,     0.50751,     0.50851,     0.50951,     0.51051,     0.51151,     0.51251,     0.51351,     0.51451,     0.51552,     0.51652,     0.51752,     0.51852,     0.51952,     0.52052,     0.52152,     0.52252,     0.52352,     0.52452,     0.52553,     0.52653,     0.52753,\n",
              "           0.52853,     0.52953,     0.53053,     0.53153,     0.53253,     0.53353,     0.53453,     0.53554,     0.53654,     0.53754,     0.53854,     0.53954,     0.54054,     0.54154,     0.54254,     0.54354,     0.54454,     0.54555,     0.54655,     0.54755,     0.54855,     0.54955,     0.55055,     0.55155,\n",
              "           0.55255,     0.55355,     0.55455,     0.55556,     0.55656,     0.55756,     0.55856,     0.55956,     0.56056,     0.56156,     0.56256,     0.56356,     0.56456,     0.56557,     0.56657,     0.56757,     0.56857,     0.56957,     0.57057,     0.57157,     0.57257,     0.57357,     0.57457,     0.57558,\n",
              "           0.57658,     0.57758,     0.57858,     0.57958,     0.58058,     0.58158,     0.58258,     0.58358,     0.58458,     0.58559,     0.58659,     0.58759,     0.58859,     0.58959,     0.59059,     0.59159,     0.59259,     0.59359,     0.59459,      0.5956,      0.5966,      0.5976,      0.5986,      0.5996,\n",
              "            0.6006,      0.6016,      0.6026,      0.6036,      0.6046,     0.60561,     0.60661,     0.60761,     0.60861,     0.60961,     0.61061,     0.61161,     0.61261,     0.61361,     0.61461,     0.61562,     0.61662,     0.61762,     0.61862,     0.61962,     0.62062,     0.62162,     0.62262,     0.62362,\n",
              "           0.62462,     0.62563,     0.62663,     0.62763,     0.62863,     0.62963,     0.63063,     0.63163,     0.63263,     0.63363,     0.63463,     0.63564,     0.63664,     0.63764,     0.63864,     0.63964,     0.64064,     0.64164,     0.64264,     0.64364,     0.64464,     0.64565,     0.64665,     0.64765,\n",
              "           0.64865,     0.64965,     0.65065,     0.65165,     0.65265,     0.65365,     0.65465,     0.65566,     0.65666,     0.65766,     0.65866,     0.65966,     0.66066,     0.66166,     0.66266,     0.66366,     0.66466,     0.66567,     0.66667,     0.66767,     0.66867,     0.66967,     0.67067,     0.67167,\n",
              "           0.67267,     0.67367,     0.67467,     0.67568,     0.67668,     0.67768,     0.67868,     0.67968,     0.68068,     0.68168,     0.68268,     0.68368,     0.68468,     0.68569,     0.68669,     0.68769,     0.68869,     0.68969,     0.69069,     0.69169,     0.69269,     0.69369,     0.69469,      0.6957,\n",
              "            0.6967,      0.6977,      0.6987,      0.6997,      0.7007,      0.7017,      0.7027,      0.7037,      0.7047,     0.70571,     0.70671,     0.70771,     0.70871,     0.70971,     0.71071,     0.71171,     0.71271,     0.71371,     0.71471,     0.71572,     0.71672,     0.71772,     0.71872,     0.71972,\n",
              "           0.72072,     0.72172,     0.72272,     0.72372,     0.72472,     0.72573,     0.72673,     0.72773,     0.72873,     0.72973,     0.73073,     0.73173,     0.73273,     0.73373,     0.73473,     0.73574,     0.73674,     0.73774,     0.73874,     0.73974,     0.74074,     0.74174,     0.74274,     0.74374,\n",
              "           0.74474,     0.74575,     0.74675,     0.74775,     0.74875,     0.74975,     0.75075,     0.75175,     0.75275,     0.75375,     0.75475,     0.75576,     0.75676,     0.75776,     0.75876,     0.75976,     0.76076,     0.76176,     0.76276,     0.76376,     0.76476,     0.76577,     0.76677,     0.76777,\n",
              "           0.76877,     0.76977,     0.77077,     0.77177,     0.77277,     0.77377,     0.77477,     0.77578,     0.77678,     0.77778,     0.77878,     0.77978,     0.78078,     0.78178,     0.78278,     0.78378,     0.78478,     0.78579,     0.78679,     0.78779,     0.78879,     0.78979,     0.79079,     0.79179,\n",
              "           0.79279,     0.79379,     0.79479,      0.7958,      0.7968,      0.7978,      0.7988,      0.7998,      0.8008,      0.8018,      0.8028,      0.8038,      0.8048,     0.80581,     0.80681,     0.80781,     0.80881,     0.80981,     0.81081,     0.81181,     0.81281,     0.81381,     0.81481,     0.81582,\n",
              "           0.81682,     0.81782,     0.81882,     0.81982,     0.82082,     0.82182,     0.82282,     0.82382,     0.82482,     0.82583,     0.82683,     0.82783,     0.82883,     0.82983,     0.83083,     0.83183,     0.83283,     0.83383,     0.83483,     0.83584,     0.83684,     0.83784,     0.83884,     0.83984,\n",
              "           0.84084,     0.84184,     0.84284,     0.84384,     0.84484,     0.84585,     0.84685,     0.84785,     0.84885,     0.84985,     0.85085,     0.85185,     0.85285,     0.85385,     0.85485,     0.85586,     0.85686,     0.85786,     0.85886,     0.85986,     0.86086,     0.86186,     0.86286,     0.86386,\n",
              "           0.86486,     0.86587,     0.86687,     0.86787,     0.86887,     0.86987,     0.87087,     0.87187,     0.87287,     0.87387,     0.87487,     0.87588,     0.87688,     0.87788,     0.87888,     0.87988,     0.88088,     0.88188,     0.88288,     0.88388,     0.88488,     0.88589,     0.88689,     0.88789,\n",
              "           0.88889,     0.88989,     0.89089,     0.89189,     0.89289,     0.89389,     0.89489,      0.8959,      0.8969,      0.8979,      0.8989,      0.8999,      0.9009,      0.9019,      0.9029,      0.9039,      0.9049,     0.90591,     0.90691,     0.90791,     0.90891,     0.90991,     0.91091,     0.91191,\n",
              "           0.91291,     0.91391,     0.91491,     0.91592,     0.91692,     0.91792,     0.91892,     0.91992,     0.92092,     0.92192,     0.92292,     0.92392,     0.92492,     0.92593,     0.92693,     0.92793,     0.92893,     0.92993,     0.93093,     0.93193,     0.93293,     0.93393,     0.93493,     0.93594,\n",
              "           0.93694,     0.93794,     0.93894,     0.93994,     0.94094,     0.94194,     0.94294,     0.94394,     0.94494,     0.94595,     0.94695,     0.94795,     0.94895,     0.94995,     0.95095,     0.95195,     0.95295,     0.95395,     0.95495,     0.95596,     0.95696,     0.95796,     0.95896,     0.95996,\n",
              "           0.96096,     0.96196,     0.96296,     0.96396,     0.96496,     0.96597,     0.96697,     0.96797,     0.96897,     0.96997,     0.97097,     0.97197,     0.97297,     0.97397,     0.97497,     0.97598,     0.97698,     0.97798,     0.97898,     0.97998,     0.98098,     0.98198,     0.98298,     0.98398,\n",
              "           0.98498,     0.98599,     0.98699,     0.98799,     0.98899,     0.98999,     0.99099,     0.99199,     0.99299,     0.99399,     0.99499,       0.996,       0.997,       0.998,       0.999,           1]), array([[   0.036872,    0.036872,    0.050283,    0.059754,    0.067757,    0.074317,    0.080734,    0.085778,    0.091005,    0.095872,     0.10135,     0.10636,     0.11156,     0.11669,     0.12101,     0.12601,      0.1305,     0.13579,     0.14002,     0.14329,     0.14729,     0.15188,     0.15539,\n",
              "             0.1601,     0.16372,     0.16639,     0.17034,     0.17433,     0.17827,     0.18133,     0.18551,     0.18933,     0.19261,     0.19728,     0.20111,     0.20315,     0.20651,     0.20906,     0.21327,     0.21809,       0.222,     0.22613,     0.23008,     0.23424,     0.23832,     0.24124,\n",
              "            0.24378,     0.24755,     0.25009,     0.25343,     0.25622,     0.26017,      0.2643,      0.2671,     0.26952,     0.27355,     0.27617,       0.279,     0.28268,     0.28649,     0.29011,     0.29373,     0.29748,     0.29994,     0.30132,     0.30337,     0.30448,     0.30804,     0.31193,\n",
              "            0.31441,      0.3176,     0.32044,     0.32354,     0.32569,     0.32968,     0.33343,     0.33621,     0.33916,     0.34168,     0.34468,     0.34917,     0.35152,     0.35355,     0.35716,     0.35991,     0.36532,     0.36669,     0.36959,     0.37287,     0.37616,     0.37781,     0.37997,\n",
              "            0.38311,     0.38448,     0.38676,     0.39057,     0.39252,     0.39564,      0.3984,     0.40039,     0.40294,     0.40545,     0.40684,     0.40966,     0.41128,     0.41467,     0.41729,     0.41854,     0.41957,     0.42293,     0.42514,     0.42777,     0.43156,       0.435,     0.43726,\n",
              "            0.43948,     0.44232,     0.44455,     0.44581,      0.4477,     0.45203,     0.45472,      0.4555,     0.46037,     0.46422,     0.46651,     0.46788,     0.46918,     0.47028,     0.47153,     0.47415,     0.47761,      0.4792,     0.48182,     0.48358,     0.48699,      0.4893,     0.48933,\n",
              "            0.49267,     0.49307,     0.49554,     0.49718,     0.50258,       0.503,     0.50468,     0.51096,     0.51523,      0.5167,     0.51889,     0.52183,     0.52554,     0.52931,     0.53028,     0.53222,     0.53378,     0.53608,      0.5384,     0.53952,     0.54063,     0.54305,     0.55049,\n",
              "              0.551,     0.55739,     0.56143,     0.56395,     0.56431,     0.56553,     0.56493,     0.56987,     0.57326,     0.57424,      0.5785,      0.5821,     0.58546,     0.58749,     0.59424,     0.59681,     0.59751,     0.59713,     0.59911,     0.59954,     0.59996,     0.60081,     0.60164,\n",
              "            0.60293,     0.60485,     0.60654,     0.60735,      0.6079,     0.61029,      0.6105,     0.61012,     0.61407,     0.61578,     0.61856,      0.6208,     0.62419,     0.62772,     0.62861,     0.63041,     0.63144,     0.63406,     0.63667,     0.63747,     0.63931,     0.64054,     0.64335,\n",
              "             0.6468,     0.64975,      0.6494,        0.65,     0.65141,     0.65109,     0.65071,     0.65166,     0.65255,     0.65244,      0.6522,      0.6518,      0.6531,     0.65661,     0.66089,     0.66491,     0.66555,     0.66643,      0.6694,     0.66971,     0.67386,     0.67576,     0.67857,\n",
              "            0.67953,     0.68083,     0.68137,     0.68108,     0.68329,     0.68323,     0.68457,     0.68522,     0.68625,      0.6881,     0.69275,     0.69482,     0.69668,     0.69795,     0.69777,     0.69754,     0.70097,      0.7029,       0.706,      0.7096,     0.71282,     0.71484,     0.71781,\n",
              "            0.71883,     0.71986,      0.7237,     0.72439,     0.72523,     0.72627,     0.73297,     0.73457,     0.73559,     0.73611,     0.73719,     0.73826,     0.73998,     0.74424,     0.74766,     0.75201,     0.75327,     0.75556,     0.75697,     0.75847,     0.76162,     0.76372,     0.76872,\n",
              "            0.77038,     0.77217,     0.77356,     0.77503,     0.77746,     0.78025,     0.78081,     0.78138,     0.78173,     0.78279,     0.78693,     0.78917,     0.79006,     0.78973,      0.7896,     0.78948,     0.78937,     0.78925,       0.789,     0.79237,     0.79347,     0.79555,     0.80088,\n",
              "            0.80415,     0.80712,     0.80785,     0.80858,     0.81031,     0.81147,     0.81321,     0.81456,     0.81514,     0.81572,     0.81836,     0.81953,     0.82102,     0.82507,     0.82628,     0.82734,     0.82811,     0.82889,     0.83062,     0.83154,     0.83232,     0.83322,     0.83446,\n",
              "            0.83642,     0.83734,     0.83842,     0.83809,     0.83846,     0.83883,      0.8392,     0.83957,     0.83994,     0.84034,     0.84084,     0.84133,     0.84183,     0.84232,     0.84436,     0.84448,     0.84438,     0.84429,      0.8442,     0.84387,     0.84546,     0.84535,     0.84524,\n",
              "            0.84507,     0.84526,     0.84656,     0.84855,     0.85086,     0.85106,     0.85086,     0.85066,     0.85051,     0.85036,     0.85006,     0.85366,     0.85649,       0.856,     0.85674,     0.85792,     0.85781,     0.85769,     0.85758,     0.85858,     0.86005,     0.86094,     0.86182,\n",
              "            0.86178,     0.86168,     0.86157,     0.86179,     0.86321,     0.86348,     0.86375,     0.86401,     0.86428,     0.86455,     0.86482,     0.86508,     0.86535,     0.86794,     0.86782,     0.86769,     0.86849,     0.86964,      0.8695,     0.86936,     0.86979,     0.87046,     0.87114,\n",
              "            0.87179,     0.87171,     0.87163,     0.87156,     0.87148,     0.87161,     0.87205,      0.8725,     0.87294,     0.87339,     0.87383,     0.87594,     0.87575,     0.87505,     0.87869,        0.88,     0.88099,     0.88196,     0.88262,     0.88493,     0.88485,     0.88476,     0.88467,\n",
              "            0.88445,     0.88511,     0.88646,     0.88872,     0.88943,     0.88927,     0.89125,     0.89176,      0.8916,     0.89122,     0.89106,     0.89086,     0.89101,      0.8938,     0.89629,     0.90086,     0.90054,     0.90048,     0.90109,      0.9017,      0.9023,     0.90291,     0.90292,\n",
              "            0.90261,     0.90199,     0.90136,     0.90072,     0.90583,     0.90933,     0.90925,     0.90917,      0.9091,     0.90896,      0.9088,     0.90865,      0.9085,      0.9084,     0.90829,     0.90838,     0.91117,       0.911,     0.91083,     0.91068,     0.91056,     0.91049,     0.91041,\n",
              "            0.91034,     0.91014,     0.90953,     0.90934,     0.90923,     0.90913,      0.9096,     0.91039,     0.91117,     0.91196,     0.91194,      0.9143,     0.91489,     0.91479,     0.91469,     0.91717,     0.91744,     0.91734,     0.91724,     0.91715,     0.91705,     0.91695,      0.9168,\n",
              "            0.91666,     0.91656,     0.91646,     0.91635,      0.9162,     0.91642,     0.91807,     0.91926,     0.91912,     0.91892,     0.91887,     0.91928,      0.9197,     0.92012,     0.92054,     0.92095,     0.92137,     0.92179,     0.92375,      0.9262,     0.92789,     0.92841,     0.92815,\n",
              "            0.92789,     0.92762,     0.92735,     0.92694,     0.92685,     0.92676,     0.92652,     0.92907,     0.93112,     0.93289,     0.93235,     0.93209,     0.93293,     0.93383,     0.93473,      0.9356,     0.93548,      0.9351,     0.93498,     0.93485,     0.93472,     0.93457,     0.93405,\n",
              "            0.93429,     0.93616,     0.93749,     0.93745,      0.9374,     0.93736,     0.93732,     0.93728,     0.93806,     0.93995,     0.94083,     0.94069,     0.94065,     0.94061,     0.94057,     0.94053,     0.94049,     0.94008,     0.94063,     0.94192,     0.94322,     0.94349,     0.94341,\n",
              "            0.94333,     0.94313,     0.94305,     0.94301,     0.94297,     0.94292,     0.94288,      0.9428,     0.94268,      0.9425,     0.94225,     0.94201,     0.94554,     0.94542,     0.94523,     0.94499,     0.94564,     0.94702,      0.9484,     0.94869,     0.94865,     0.94861,     0.94858,\n",
              "            0.94854,      0.9485,     0.94839,     0.94828,      0.9476,      0.9516,     0.95574,     0.95544,     0.95504,     0.95489,     0.95479,     0.95471,     0.95464,     0.95457,     0.95449,     0.95442,     0.95435,      0.9592,      0.9598,      0.9604,     0.96101,     0.96161,     0.96221,\n",
              "            0.96282,     0.96309,       0.963,     0.96377,      0.9653,     0.96683,      0.9674,     0.96732,     0.96916,     0.97167,      0.9714,     0.97126,     0.97098,     0.97083,     0.97069,     0.97054,     0.97027,     0.97019,     0.97012,     0.97006,        0.97,     0.96985,     0.96981,\n",
              "            0.96977,     0.96973,     0.96968,     0.96951,     0.96905,     0.96901,     0.96896,     0.96892,     0.96887,     0.96882,     0.96876,     0.97322,     0.97309,     0.97302,      0.9728,     0.97272,     0.97263,     0.97253,     0.97773,     0.97843,     0.97909,     0.97975,     0.98041,\n",
              "            0.98107,     0.98172,     0.98238,     0.98304,     0.98317,     0.98313,     0.98311,     0.98309,     0.98307,     0.98299,     0.98287,     0.98283,     0.98279,     0.98276,     0.98269,     0.98261,     0.98251,      0.9824,     0.98234,     0.98233,     0.98231,     0.98229,     0.98227,\n",
              "            0.98225,     0.98222,     0.98217,     0.98211,     0.98787,     0.98783,      0.9919,     0.99382,      0.9938,     0.99379,     0.99376,           1,           1,           1,           1,           1,           1,           1,           1,           1,           1,           1,           1,\n",
              "                  1,           1,           1,           1,           1,           1,           1,           1,           1,           1,           1,           1,           1,           1,           1,           1,           1,           1,           1,           1,           1,           1,           1,\n",
              "                  1,           1,           1,           1,           1,           1,           1,           1,           1,           1,           1,           1,           1,           1,           1,           1,           1,           1,           1,           1,           1,           1,           1,\n",
              "                  1,           1,           1,           1,           1,           1,           1,           1,           1,           1,           1,           1,           1,           1,           1,           1,           1,           1,           1,           1,           1,           1,           1,\n",
              "                  1,           1,           1,           1,           1,           1,           1,           1,           1,           1,           1,           1,           1,           1,           1,           1,           1,           1,           1,           1,           1,           1,           1,\n",
              "                  1,           1,           1,           1,           1,           1,           1,           1,           1,           1,           1,           1,           1,           1,           1,           1,           1,           1,           1,           1,           1,           1,           1,\n",
              "                  1,           1,           1,           1,           1,           1,           1,           1,           1,           1,           1,           1,           1,           1,           1,           1,           1,           1,           1,           1,           1,           1,           1,\n",
              "                  1,           1,           1,           1,           1,           1,           1,           1,           1,           1,           1,           1,           1,           1,           1,           1,           1,           1,           1,           1,           1,           1,           1,\n",
              "                  1,           1,           1,           1,           1,           1,           1,           1,           1,           1,           1,           1,           1,           1,           1,           1,           1,           1,           1,           1,           1,           1,           1,\n",
              "                  1,           1,           1,           1,           1,           1,           1,           1,           1,           1,           1,           1,           1,           1,           1,           1,           1,           1,           1,           1,           1,           1,           1,\n",
              "                  1,           1,           1,           1,           1,           1,           1,           1,           1,           1,           1,           1,           1,           1,           1,           1,           1,           1,           1,           1,           1,           1,           1,\n",
              "                  1,           1,           1,           1,           1,           1,           1,           1,           1,           1,           1,           1,           1,           1,           1,           1,           1,           1,           1,           1,           1,           1,           1,\n",
              "                  1,           1,           1,           1,           1,           1,           1,           1,           1,           1,           1,           1,           1,           1,           1,           1,           1,           1,           1,           1,           1,           1,           1,\n",
              "                  1,           1,           1,           1,           1,           1,           1,           1,           1,           1,           1,           1,           1,           1,           1,           1,           1,           1,           1,           1,           1,           1,           1,\n",
              "                  1,           1,           1,           1,           1,           1,           1,           1,           1,           1,           1]]), 'Confidence', 'Precision'], [array([          0,    0.001001,    0.002002,    0.003003,    0.004004,    0.005005,    0.006006,    0.007007,    0.008008,    0.009009,     0.01001,    0.011011,    0.012012,    0.013013,    0.014014,    0.015015,    0.016016,    0.017017,    0.018018,    0.019019,     0.02002,    0.021021,    0.022022,    0.023023,\n",
              "          0.024024,    0.025025,    0.026026,    0.027027,    0.028028,    0.029029,     0.03003,    0.031031,    0.032032,    0.033033,    0.034034,    0.035035,    0.036036,    0.037037,    0.038038,    0.039039,     0.04004,    0.041041,    0.042042,    0.043043,    0.044044,    0.045045,    0.046046,    0.047047,\n",
              "          0.048048,    0.049049,     0.05005,    0.051051,    0.052052,    0.053053,    0.054054,    0.055055,    0.056056,    0.057057,    0.058058,    0.059059,     0.06006,    0.061061,    0.062062,    0.063063,    0.064064,    0.065065,    0.066066,    0.067067,    0.068068,    0.069069,     0.07007,    0.071071,\n",
              "          0.072072,    0.073073,    0.074074,    0.075075,    0.076076,    0.077077,    0.078078,    0.079079,     0.08008,    0.081081,    0.082082,    0.083083,    0.084084,    0.085085,    0.086086,    0.087087,    0.088088,    0.089089,     0.09009,    0.091091,    0.092092,    0.093093,    0.094094,    0.095095,\n",
              "          0.096096,    0.097097,    0.098098,    0.099099,      0.1001,      0.1011,      0.1021,      0.1031,      0.1041,     0.10511,     0.10611,     0.10711,     0.10811,     0.10911,     0.11011,     0.11111,     0.11211,     0.11311,     0.11411,     0.11512,     0.11612,     0.11712,     0.11812,     0.11912,\n",
              "           0.12012,     0.12112,     0.12212,     0.12312,     0.12412,     0.12513,     0.12613,     0.12713,     0.12813,     0.12913,     0.13013,     0.13113,     0.13213,     0.13313,     0.13413,     0.13514,     0.13614,     0.13714,     0.13814,     0.13914,     0.14014,     0.14114,     0.14214,     0.14314,\n",
              "           0.14414,     0.14515,     0.14615,     0.14715,     0.14815,     0.14915,     0.15015,     0.15115,     0.15215,     0.15315,     0.15415,     0.15516,     0.15616,     0.15716,     0.15816,     0.15916,     0.16016,     0.16116,     0.16216,     0.16316,     0.16416,     0.16517,     0.16617,     0.16717,\n",
              "           0.16817,     0.16917,     0.17017,     0.17117,     0.17217,     0.17317,     0.17417,     0.17518,     0.17618,     0.17718,     0.17818,     0.17918,     0.18018,     0.18118,     0.18218,     0.18318,     0.18418,     0.18519,     0.18619,     0.18719,     0.18819,     0.18919,     0.19019,     0.19119,\n",
              "           0.19219,     0.19319,     0.19419,      0.1952,      0.1962,      0.1972,      0.1982,      0.1992,      0.2002,      0.2012,      0.2022,      0.2032,      0.2042,     0.20521,     0.20621,     0.20721,     0.20821,     0.20921,     0.21021,     0.21121,     0.21221,     0.21321,     0.21421,     0.21522,\n",
              "           0.21622,     0.21722,     0.21822,     0.21922,     0.22022,     0.22122,     0.22222,     0.22322,     0.22422,     0.22523,     0.22623,     0.22723,     0.22823,     0.22923,     0.23023,     0.23123,     0.23223,     0.23323,     0.23423,     0.23524,     0.23624,     0.23724,     0.23824,     0.23924,\n",
              "           0.24024,     0.24124,     0.24224,     0.24324,     0.24424,     0.24525,     0.24625,     0.24725,     0.24825,     0.24925,     0.25025,     0.25125,     0.25225,     0.25325,     0.25425,     0.25526,     0.25626,     0.25726,     0.25826,     0.25926,     0.26026,     0.26126,     0.26226,     0.26326,\n",
              "           0.26426,     0.26527,     0.26627,     0.26727,     0.26827,     0.26927,     0.27027,     0.27127,     0.27227,     0.27327,     0.27427,     0.27528,     0.27628,     0.27728,     0.27828,     0.27928,     0.28028,     0.28128,     0.28228,     0.28328,     0.28428,     0.28529,     0.28629,     0.28729,\n",
              "           0.28829,     0.28929,     0.29029,     0.29129,     0.29229,     0.29329,     0.29429,      0.2953,      0.2963,      0.2973,      0.2983,      0.2993,      0.3003,      0.3013,      0.3023,      0.3033,      0.3043,     0.30531,     0.30631,     0.30731,     0.30831,     0.30931,     0.31031,     0.31131,\n",
              "           0.31231,     0.31331,     0.31431,     0.31532,     0.31632,     0.31732,     0.31832,     0.31932,     0.32032,     0.32132,     0.32232,     0.32332,     0.32432,     0.32533,     0.32633,     0.32733,     0.32833,     0.32933,     0.33033,     0.33133,     0.33233,     0.33333,     0.33433,     0.33534,\n",
              "           0.33634,     0.33734,     0.33834,     0.33934,     0.34034,     0.34134,     0.34234,     0.34334,     0.34434,     0.34535,     0.34635,     0.34735,     0.34835,     0.34935,     0.35035,     0.35135,     0.35235,     0.35335,     0.35435,     0.35536,     0.35636,     0.35736,     0.35836,     0.35936,\n",
              "           0.36036,     0.36136,     0.36236,     0.36336,     0.36436,     0.36537,     0.36637,     0.36737,     0.36837,     0.36937,     0.37037,     0.37137,     0.37237,     0.37337,     0.37437,     0.37538,     0.37638,     0.37738,     0.37838,     0.37938,     0.38038,     0.38138,     0.38238,     0.38338,\n",
              "           0.38438,     0.38539,     0.38639,     0.38739,     0.38839,     0.38939,     0.39039,     0.39139,     0.39239,     0.39339,     0.39439,      0.3954,      0.3964,      0.3974,      0.3984,      0.3994,      0.4004,      0.4014,      0.4024,      0.4034,      0.4044,     0.40541,     0.40641,     0.40741,\n",
              "           0.40841,     0.40941,     0.41041,     0.41141,     0.41241,     0.41341,     0.41441,     0.41542,     0.41642,     0.41742,     0.41842,     0.41942,     0.42042,     0.42142,     0.42242,     0.42342,     0.42442,     0.42543,     0.42643,     0.42743,     0.42843,     0.42943,     0.43043,     0.43143,\n",
              "           0.43243,     0.43343,     0.43443,     0.43544,     0.43644,     0.43744,     0.43844,     0.43944,     0.44044,     0.44144,     0.44244,     0.44344,     0.44444,     0.44545,     0.44645,     0.44745,     0.44845,     0.44945,     0.45045,     0.45145,     0.45245,     0.45345,     0.45445,     0.45546,\n",
              "           0.45646,     0.45746,     0.45846,     0.45946,     0.46046,     0.46146,     0.46246,     0.46346,     0.46446,     0.46547,     0.46647,     0.46747,     0.46847,     0.46947,     0.47047,     0.47147,     0.47247,     0.47347,     0.47447,     0.47548,     0.47648,     0.47748,     0.47848,     0.47948,\n",
              "           0.48048,     0.48148,     0.48248,     0.48348,     0.48448,     0.48549,     0.48649,     0.48749,     0.48849,     0.48949,     0.49049,     0.49149,     0.49249,     0.49349,     0.49449,      0.4955,      0.4965,      0.4975,      0.4985,      0.4995,      0.5005,      0.5015,      0.5025,      0.5035,\n",
              "            0.5045,     0.50551,     0.50651,     0.50751,     0.50851,     0.50951,     0.51051,     0.51151,     0.51251,     0.51351,     0.51451,     0.51552,     0.51652,     0.51752,     0.51852,     0.51952,     0.52052,     0.52152,     0.52252,     0.52352,     0.52452,     0.52553,     0.52653,     0.52753,\n",
              "           0.52853,     0.52953,     0.53053,     0.53153,     0.53253,     0.53353,     0.53453,     0.53554,     0.53654,     0.53754,     0.53854,     0.53954,     0.54054,     0.54154,     0.54254,     0.54354,     0.54454,     0.54555,     0.54655,     0.54755,     0.54855,     0.54955,     0.55055,     0.55155,\n",
              "           0.55255,     0.55355,     0.55455,     0.55556,     0.55656,     0.55756,     0.55856,     0.55956,     0.56056,     0.56156,     0.56256,     0.56356,     0.56456,     0.56557,     0.56657,     0.56757,     0.56857,     0.56957,     0.57057,     0.57157,     0.57257,     0.57357,     0.57457,     0.57558,\n",
              "           0.57658,     0.57758,     0.57858,     0.57958,     0.58058,     0.58158,     0.58258,     0.58358,     0.58458,     0.58559,     0.58659,     0.58759,     0.58859,     0.58959,     0.59059,     0.59159,     0.59259,     0.59359,     0.59459,      0.5956,      0.5966,      0.5976,      0.5986,      0.5996,\n",
              "            0.6006,      0.6016,      0.6026,      0.6036,      0.6046,     0.60561,     0.60661,     0.60761,     0.60861,     0.60961,     0.61061,     0.61161,     0.61261,     0.61361,     0.61461,     0.61562,     0.61662,     0.61762,     0.61862,     0.61962,     0.62062,     0.62162,     0.62262,     0.62362,\n",
              "           0.62462,     0.62563,     0.62663,     0.62763,     0.62863,     0.62963,     0.63063,     0.63163,     0.63263,     0.63363,     0.63463,     0.63564,     0.63664,     0.63764,     0.63864,     0.63964,     0.64064,     0.64164,     0.64264,     0.64364,     0.64464,     0.64565,     0.64665,     0.64765,\n",
              "           0.64865,     0.64965,     0.65065,     0.65165,     0.65265,     0.65365,     0.65465,     0.65566,     0.65666,     0.65766,     0.65866,     0.65966,     0.66066,     0.66166,     0.66266,     0.66366,     0.66466,     0.66567,     0.66667,     0.66767,     0.66867,     0.66967,     0.67067,     0.67167,\n",
              "           0.67267,     0.67367,     0.67467,     0.67568,     0.67668,     0.67768,     0.67868,     0.67968,     0.68068,     0.68168,     0.68268,     0.68368,     0.68468,     0.68569,     0.68669,     0.68769,     0.68869,     0.68969,     0.69069,     0.69169,     0.69269,     0.69369,     0.69469,      0.6957,\n",
              "            0.6967,      0.6977,      0.6987,      0.6997,      0.7007,      0.7017,      0.7027,      0.7037,      0.7047,     0.70571,     0.70671,     0.70771,     0.70871,     0.70971,     0.71071,     0.71171,     0.71271,     0.71371,     0.71471,     0.71572,     0.71672,     0.71772,     0.71872,     0.71972,\n",
              "           0.72072,     0.72172,     0.72272,     0.72372,     0.72472,     0.72573,     0.72673,     0.72773,     0.72873,     0.72973,     0.73073,     0.73173,     0.73273,     0.73373,     0.73473,     0.73574,     0.73674,     0.73774,     0.73874,     0.73974,     0.74074,     0.74174,     0.74274,     0.74374,\n",
              "           0.74474,     0.74575,     0.74675,     0.74775,     0.74875,     0.74975,     0.75075,     0.75175,     0.75275,     0.75375,     0.75475,     0.75576,     0.75676,     0.75776,     0.75876,     0.75976,     0.76076,     0.76176,     0.76276,     0.76376,     0.76476,     0.76577,     0.76677,     0.76777,\n",
              "           0.76877,     0.76977,     0.77077,     0.77177,     0.77277,     0.77377,     0.77477,     0.77578,     0.77678,     0.77778,     0.77878,     0.77978,     0.78078,     0.78178,     0.78278,     0.78378,     0.78478,     0.78579,     0.78679,     0.78779,     0.78879,     0.78979,     0.79079,     0.79179,\n",
              "           0.79279,     0.79379,     0.79479,      0.7958,      0.7968,      0.7978,      0.7988,      0.7998,      0.8008,      0.8018,      0.8028,      0.8038,      0.8048,     0.80581,     0.80681,     0.80781,     0.80881,     0.80981,     0.81081,     0.81181,     0.81281,     0.81381,     0.81481,     0.81582,\n",
              "           0.81682,     0.81782,     0.81882,     0.81982,     0.82082,     0.82182,     0.82282,     0.82382,     0.82482,     0.82583,     0.82683,     0.82783,     0.82883,     0.82983,     0.83083,     0.83183,     0.83283,     0.83383,     0.83483,     0.83584,     0.83684,     0.83784,     0.83884,     0.83984,\n",
              "           0.84084,     0.84184,     0.84284,     0.84384,     0.84484,     0.84585,     0.84685,     0.84785,     0.84885,     0.84985,     0.85085,     0.85185,     0.85285,     0.85385,     0.85485,     0.85586,     0.85686,     0.85786,     0.85886,     0.85986,     0.86086,     0.86186,     0.86286,     0.86386,\n",
              "           0.86486,     0.86587,     0.86687,     0.86787,     0.86887,     0.86987,     0.87087,     0.87187,     0.87287,     0.87387,     0.87487,     0.87588,     0.87688,     0.87788,     0.87888,     0.87988,     0.88088,     0.88188,     0.88288,     0.88388,     0.88488,     0.88589,     0.88689,     0.88789,\n",
              "           0.88889,     0.88989,     0.89089,     0.89189,     0.89289,     0.89389,     0.89489,      0.8959,      0.8969,      0.8979,      0.8989,      0.8999,      0.9009,      0.9019,      0.9029,      0.9039,      0.9049,     0.90591,     0.90691,     0.90791,     0.90891,     0.90991,     0.91091,     0.91191,\n",
              "           0.91291,     0.91391,     0.91491,     0.91592,     0.91692,     0.91792,     0.91892,     0.91992,     0.92092,     0.92192,     0.92292,     0.92392,     0.92492,     0.92593,     0.92693,     0.92793,     0.92893,     0.92993,     0.93093,     0.93193,     0.93293,     0.93393,     0.93493,     0.93594,\n",
              "           0.93694,     0.93794,     0.93894,     0.93994,     0.94094,     0.94194,     0.94294,     0.94394,     0.94494,     0.94595,     0.94695,     0.94795,     0.94895,     0.94995,     0.95095,     0.95195,     0.95295,     0.95395,     0.95495,     0.95596,     0.95696,     0.95796,     0.95896,     0.95996,\n",
              "           0.96096,     0.96196,     0.96296,     0.96396,     0.96496,     0.96597,     0.96697,     0.96797,     0.96897,     0.96997,     0.97097,     0.97197,     0.97297,     0.97397,     0.97497,     0.97598,     0.97698,     0.97798,     0.97898,     0.97998,     0.98098,     0.98198,     0.98298,     0.98398,\n",
              "           0.98498,     0.98599,     0.98699,     0.98799,     0.98899,     0.98999,     0.99099,     0.99199,     0.99299,     0.99399,     0.99499,       0.996,       0.997,       0.998,       0.999,           1]), array([[    0.90119,     0.90119,     0.89526,     0.88735,      0.8834,      0.8834,     0.87945,     0.87747,     0.87747,     0.87352,     0.87352,     0.87154,     0.86759,     0.86759,     0.86166,     0.85968,     0.85573,     0.85375,     0.85178,     0.84783,     0.84387,     0.83992,     0.83597,\n",
              "            0.83597,     0.83399,     0.83202,     0.83004,     0.82609,     0.82609,     0.82609,     0.82609,     0.82609,     0.82609,     0.82609,     0.82586,     0.82016,     0.82016,     0.82016,     0.82016,     0.81818,     0.81621,     0.81621,     0.81423,     0.81423,     0.81423,     0.81423,\n",
              "            0.81028,     0.81028,     0.80632,     0.80435,     0.80435,     0.80435,     0.80435,     0.80435,      0.8004,     0.79842,     0.79842,     0.79842,     0.79644,     0.79644,     0.79644,     0.79447,     0.79447,     0.79249,     0.78854,     0.78854,     0.78656,     0.78656,     0.78656,\n",
              "            0.78656,     0.78458,     0.78458,     0.78458,     0.78458,     0.78458,     0.78458,     0.78458,     0.78458,     0.78458,     0.78458,     0.78458,     0.78458,     0.78261,     0.78261,     0.78261,     0.78261,     0.78063,     0.78063,     0.78063,     0.78063,     0.78063,     0.77866,\n",
              "            0.77866,     0.77866,     0.77866,     0.77866,     0.77866,     0.77866,     0.77866,     0.77866,     0.77668,     0.77668,      0.7747,      0.7747,      0.7747,      0.7747,     0.77075,     0.76877,     0.76877,     0.76877,     0.76877,     0.76877,     0.76877,     0.76877,     0.76877,\n",
              "            0.76877,      0.7668,     0.76482,     0.76482,     0.76285,     0.76087,     0.76087,     0.75889,     0.75889,     0.75889,     0.75692,     0.75692,     0.75494,     0.74901,     0.74901,     0.74901,     0.74901,     0.74901,     0.74901,     0.74901,     0.74901,     0.74704,     0.74506,\n",
              "            0.74308,     0.74111,     0.74111,     0.74111,     0.74111,     0.73715,     0.73715,     0.73715,     0.73715,     0.73715,     0.73715,     0.73715,     0.73715,     0.73715,     0.73715,     0.73715,     0.73715,     0.73715,     0.73518,     0.73518,     0.73518,     0.73518,     0.73518,\n",
              "            0.73518,     0.73518,     0.73518,     0.73518,      0.7332,     0.73315,     0.73135,     0.73123,     0.73123,     0.73123,     0.73123,     0.72925,     0.72925,     0.72615,      0.7253,      0.7253,     0.72467,     0.72351,     0.72332,     0.72332,     0.72332,     0.72332,     0.72332,\n",
              "            0.72332,     0.72332,     0.72134,     0.72134,     0.72134,     0.72134,     0.71866,      0.7175,     0.71542,     0.71542,     0.71542,     0.71542,     0.71542,     0.71542,     0.71542,     0.71542,     0.71542,     0.71542,     0.71542,     0.71542,     0.71542,     0.71344,     0.71344,\n",
              "            0.71296,     0.71125,     0.70949,     0.70949,     0.70909,     0.70807,     0.70553,     0.70553,     0.70553,     0.70488,     0.70415,     0.70291,     0.70158,     0.70158,     0.70158,     0.70158,     0.70158,     0.70158,     0.70158,      0.6996,     0.69824,     0.69565,     0.69565,\n",
              "            0.69564,     0.69368,     0.69308,     0.69218,      0.6917,     0.69054,     0.68972,     0.68972,     0.68972,     0.68972,     0.68972,     0.68972,     0.68972,     0.68972,     0.68898,     0.68821,     0.68775,     0.68775,     0.68182,     0.68182,     0.68182,     0.68182,     0.68182,\n",
              "            0.68182,     0.68182,     0.68182,     0.68182,     0.68182,     0.68182,     0.68182,     0.68182,     0.68176,     0.67787,     0.67787,     0.67448,     0.67391,     0.67391,     0.67391,     0.67391,     0.67391,     0.67391,     0.67391,     0.67391,     0.67194,     0.67194,     0.67194,\n",
              "            0.67194,     0.67194,     0.67194,     0.67194,     0.67194,     0.67194,     0.67194,     0.67194,     0.66996,     0.66996,     0.66996,     0.66996,     0.66936,     0.66801,     0.66752,     0.66704,     0.66656,     0.66609,     0.66403,     0.66206,     0.66206,     0.66206,     0.66008,\n",
              "            0.66008,     0.66008,     0.66008,     0.66008,      0.6581,      0.6581,      0.6581,      0.6581,      0.6581,      0.6581,     0.65613,     0.65512,     0.65275,     0.65217,     0.65217,     0.65217,     0.65217,     0.65217,      0.6502,      0.6502,      0.6502,      0.6502,      0.6502,\n",
              "            0.64675,     0.64625,     0.64603,     0.64427,     0.64427,     0.64427,     0.64427,     0.64427,     0.64427,     0.64427,     0.64427,     0.64427,     0.64427,     0.64427,     0.64427,     0.64386,     0.64341,     0.64296,     0.64251,     0.64089,     0.63791,     0.63737,     0.63683,\n",
              "            0.63601,     0.63439,     0.63439,     0.63439,     0.63439,      0.6324,     0.63139,     0.63039,     0.62966,     0.62892,     0.62745,     0.62648,     0.62513,     0.62264,     0.62055,     0.62055,     0.61997,     0.61939,     0.61881,      0.6166,      0.6166,      0.6166,      0.6166,\n",
              "             0.6161,     0.61556,     0.61501,     0.61265,     0.61067,     0.61067,     0.61067,     0.61067,     0.61067,     0.61067,     0.61067,     0.61067,     0.61067,     0.61048,     0.60981,     0.60913,      0.6087,     0.60644,     0.60571,     0.60497,     0.60474,     0.60474,     0.60474,\n",
              "            0.60473,      0.6043,     0.60388,     0.60345,     0.60302,     0.60277,     0.60277,     0.60277,     0.60277,     0.60277,     0.60277,     0.59999,     0.59898,     0.59514,     0.59486,     0.59486,     0.59486,     0.59486,      0.5944,     0.59276,     0.59225,     0.59174,     0.59124,\n",
              "            0.58996,     0.58893,     0.58893,     0.58893,     0.58823,     0.58722,     0.58696,     0.58618,     0.58517,     0.58292,     0.58191,     0.58076,     0.57905,     0.57905,     0.57708,     0.57463,     0.57261,     0.57115,     0.57115,     0.57115,     0.57115,     0.57115,     0.56984,\n",
              "            0.56781,     0.56381,     0.55981,     0.55581,     0.55534,     0.55494,     0.55443,     0.55392,     0.55342,     0.55246,     0.55145,     0.55043,     0.54942,     0.54874,     0.54807,     0.54743,     0.54733,     0.54618,     0.54507,     0.54406,     0.54326,     0.54276,     0.54225,\n",
              "            0.54174,     0.54044,     0.53644,     0.53519,     0.53451,     0.53384,      0.5336,      0.5336,      0.5336,      0.5336,     0.53209,     0.53162,     0.53109,     0.53041,     0.52974,     0.52767,     0.52707,     0.52639,     0.52572,     0.52504,     0.52437,     0.52368,     0.52267,\n",
              "            0.52168,     0.52101,     0.52033,      0.5196,     0.51859,     0.51779,     0.51779,     0.51753,     0.51651,     0.51519,     0.51383,     0.51383,     0.51383,     0.51383,     0.51383,     0.51383,     0.51383,     0.51383,     0.51383,     0.51383,     0.51383,     0.51262,      0.5106,\n",
              "            0.50857,     0.50655,     0.50452,     0.50149,     0.50082,     0.50014,     0.49839,     0.49605,     0.49605,     0.49605,     0.49029,     0.48826,     0.48814,     0.48814,     0.48814,      0.4881,     0.48709,      0.4841,     0.48309,     0.48208,     0.48106,     0.47987,     0.47586,\n",
              "            0.47431,     0.47431,     0.47421,     0.47388,     0.47354,      0.4732,     0.47286,     0.47253,     0.47233,     0.47233,     0.47137,     0.47019,     0.46985,     0.46951,     0.46917,     0.46884,      0.4685,     0.46509,     0.46245,     0.46245,     0.46245,     0.46195,     0.46127,\n",
              "             0.4606,     0.45882,     0.45819,     0.45782,     0.45745,     0.45708,     0.45671,     0.45604,     0.45503,     0.45348,     0.45145,     0.44943,     0.44603,     0.44502,     0.44335,     0.44133,     0.43874,     0.43874,     0.43874,     0.43848,     0.43814,      0.4378,     0.43746,\n",
              "            0.43712,     0.43679,     0.43583,     0.43482,     0.42887,     0.42688,     0.42672,     0.42379,     0.41978,     0.41837,     0.41735,     0.41656,     0.41588,     0.41521,     0.41453,     0.41386,     0.41318,     0.41304,     0.41304,     0.41304,     0.41304,     0.41304,     0.41304,\n",
              "            0.41304,     0.41256,     0.41155,     0.41107,     0.41107,     0.41107,     0.41046,     0.40945,     0.40711,     0.40674,     0.40274,     0.40071,     0.39671,     0.39468,     0.39266,     0.39063,     0.38699,     0.38598,     0.38505,     0.38424,     0.38343,     0.38144,     0.38092,\n",
              "            0.38041,     0.37991,     0.37927,     0.37701,     0.37122,     0.37072,     0.37021,     0.36971,     0.36908,      0.3684,     0.36773,     0.35906,     0.35737,     0.35636,     0.35337,     0.35236,      0.3512,     0.34985,     0.34783,     0.34783,     0.34783,     0.34783,     0.34783,\n",
              "            0.34783,     0.34783,     0.34783,     0.34783,     0.34641,     0.34552,     0.34507,     0.34462,     0.34417,     0.34252,     0.34019,     0.33933,     0.33866,     0.33798,     0.33667,       0.335,     0.33297,     0.33095,     0.32985,     0.32952,     0.32918,     0.32884,      0.3285,\n",
              "            0.32816,      0.3275,     0.32669,     0.32556,     0.32185,     0.32083,     0.31818,     0.31761,     0.31694,     0.31626,     0.31496,     0.31402,     0.31357,     0.31312,     0.31267,     0.31212,     0.30991,     0.30708,     0.30384,     0.30303,     0.30199,     0.30031,      0.2999,\n",
              "             0.2995,     0.29909,     0.29869,     0.29774,     0.29572,     0.29421,     0.29353,     0.29286,     0.29223,     0.29165,     0.29107,     0.28654,     0.28614,     0.28573,     0.28533,     0.28492,     0.28228,     0.27987,     0.27627,      0.2757,     0.27512,     0.27432,     0.27297,\n",
              "            0.27189,     0.27088,      0.2676,     0.26515,     0.26296,     0.26157,     0.26063,     0.26012,     0.25961,     0.25911,     0.25772,      0.2561,      0.2508,     0.24945,     0.24764,     0.24296,     0.24238,      0.2418,     0.24122,     0.24057,     0.23989,     0.23922,     0.23671,\n",
              "            0.23621,      0.2357,     0.23519,     0.23387,     0.23071,      0.2297,     0.22813,      0.2268,     0.22599,     0.22511,     0.22376,     0.22096,     0.21915,     0.21814,     0.21686,     0.21425,     0.21303,     0.21253,     0.21202,     0.21151,     0.20965,     0.20824,     0.20689,\n",
              "            0.20554,     0.20503,     0.20452,     0.20402,     0.20319,      0.1992,     0.19852,     0.19785,     0.19671,     0.19479,     0.19151,      0.1907,     0.18989,     0.18535,       0.184,     0.17911,     0.17631,      0.1721,     0.16921,      0.1684,     0.16405,        0.16,     0.15739,\n",
              "            0.15603,     0.15468,     0.15202,     0.15067,     0.14755,     0.14533,     0.14398,     0.14263,     0.14195,      0.1415,     0.14105,      0.1406,     0.14002,     0.13921,      0.1384,     0.13543,     0.13442,     0.12797,     0.12696,     0.12181,     0.12053,     0.12019,     0.11986,\n",
              "            0.11952,     0.11918,     0.11884,     0.11771,     0.11513,     0.11046,     0.10965,     0.10884,     0.10703,     0.10586,     0.10485,     0.10292,     0.10152,    0.099861,    0.096856,    0.094821,    0.092795,    0.090816,    0.089466,    0.086548,    0.085872,    0.085197,    0.084751,\n",
              "           0.084413,    0.084076,    0.083738,    0.083401,    0.083063,    0.080754,    0.079944,    0.079134,    0.076742,    0.075932,    0.075122,    0.074536,    0.073958,    0.073379,    0.070895,    0.070445,    0.069995,    0.069545,    0.068944,    0.067594,    0.066243,    0.065023,    0.064212,\n",
              "           0.063402,     0.06243,    0.061417,    0.060691,    0.060016,     0.05934,     0.05643,    0.054963,    0.054153,    0.053317,    0.051357,    0.050778,      0.0502,    0.049621,    0.049175,    0.048806,    0.048438,     0.04807,    0.047701,    0.047162,    0.046149,      0.0452,     0.04439,\n",
              "            0.04358,    0.041706,    0.040773,    0.039963,    0.037083,     0.03607,    0.034541,    0.033056,    0.032043,    0.030834,    0.029575,    0.028997,    0.028418,    0.027839,    0.025594,    0.025144,    0.024694,    0.024244,    0.023793,    0.022878,    0.021865,    0.020852,     0.01984,\n",
              "           0.015717,    0.015504,    0.015291,    0.015077,    0.014864,    0.014651,    0.014438,    0.014225,    0.014011,    0.013788,    0.013518,    0.013248,    0.012978,    0.012708,    0.012438,    0.012168,    0.011898,    0.011592,    0.011281,    0.010969,    0.010657,    0.010346,    0.010034,\n",
              "          0.0088478,   0.0075957,   0.0070169,   0.0064381,   0.0059086,   0.0057398,    0.005571,   0.0054021,   0.0052333,   0.0050645,   0.0048957,   0.0047269,   0.0045581,   0.0043893,   0.0042205,   0.0040516,   0.0038645,   0.0036512,    0.003438,   0.0032248,   0.0030115,   0.0027983,   0.0025851,\n",
              "          0.0023718,   0.0021586,           0,           0,           0,           0,           0,           0,           0,           0,           0,           0,           0,           0,           0,           0,           0,           0,           0,           0,           0,           0,           0,\n",
              "                  0,           0,           0,           0,           0,           0,           0,           0,           0,           0,           0,           0,           0,           0,           0,           0,           0,           0,           0,           0,           0,           0,           0,\n",
              "                  0,           0,           0,           0,           0,           0,           0,           0,           0,           0,           0]]), 'Confidence', 'Recall']]\n",
              "fitness: 0.4259592702426714\n",
              "keys: ['metrics/precision(B)', 'metrics/recall(B)', 'metrics/mAP50(B)', 'metrics/mAP50-95(B)']\n",
              "maps: array([    0.39233])\n",
              "names: {0: 'face'}\n",
              "plot: True\n",
              "results_dict: {'metrics/precision(B)': 0.8380941984927002, 'metrics/recall(B)': 0.6442687747035574, 'metrics/mAP50(B)': 0.7285790965982806, 'metrics/mAP50-95(B)': 0.3923348450920481, 'fitness': 0.4259592702426714}\n",
              "save_dir: PosixPath('runs/detect/train')\n",
              "speed: {'preprocess': 0.2978633852040723, 'inference': 3.080810946918159, 'loss': 0.03483143638582265, 'postprocess': 3.5039869587073165}\n",
              "task: 'detect'"
            ]
          },
          "metadata": {},
          "execution_count": 3
        }
      ]
    },
    {
      "cell_type": "code",
      "source": [
        "\n",
        "\n",
        "# Import YOLO from the ultralytics package\n",
        "from ultralytics import YOLO\n",
        "\n",
        "# Load your custom-trained model\n",
        "model = YOLO('/content/runs/detect/train/weights/best.pt')\n",
        "\n",
        "# Run prediction on your video file\n",
        "results = model.predict(source='/content/pic (62).jpg', save=True)\n",
        "\n",
        "# This will process the video and save output in the default runs folder\n"
      ],
      "metadata": {
        "colab": {
          "base_uri": "https://localhost:8080/"
        },
        "id": "ADz-w5nf0H8t",
        "outputId": "8b29573d-ac26-4fa6-dbd0-07ec60f348e5"
      },
      "execution_count": 5,
      "outputs": [
        {
          "output_type": "stream",
          "name": "stdout",
          "text": [
            "\n",
            "image 1/1 /content/pic (62).jpg: 640x640 1 face, 8.5ms\n",
            "Speed: 3.2ms preprocess, 8.5ms inference, 1.7ms postprocess per image at shape (1, 3, 640, 640)\n",
            "Results saved to \u001b[1mruns/detect/predict2\u001b[0m\n"
          ]
        }
      ]
    },
    {
      "cell_type": "code",
      "source": [
        "from ultralytics import YOLO\n",
        "\n",
        "# Load your YOLO model\n",
        "model = YOLO(\"/content/runs/detect/train/weights/best.pt\")\n",
        "\n",
        "# Export the model to TFLite format\n",
        "model.export(format=\"tflite\")  # This will create a TFLite model in the same directory as your .pt file\n"
      ],
      "metadata": {
        "colab": {
          "base_uri": "https://localhost:8080/",
          "height": 1000
        },
        "id": "l7ytRMAH6H6E",
        "outputId": "79396f72-99a6-4e15-b2c6-fdc621bd37ab"
      },
      "execution_count": 6,
      "outputs": [
        {
          "output_type": "stream",
          "name": "stdout",
          "text": [
            "Ultralytics 8.3.31 🚀 Python-3.10.12 torch-2.5.1+cu121 CPU (Intel Xeon 2.00GHz)\n",
            "YOLOv8n summary (fused): 168 layers, 3,005,843 parameters, 0 gradients, 8.1 GFLOPs\n",
            "\n",
            "\u001b[34m\u001b[1mPyTorch:\u001b[0m starting from '/content/runs/detect/train/weights/best.pt' with input shape (1, 3, 640, 640) BCHW and output shape(s) (1, 5, 8400) (6.0 MB)\n",
            "\u001b[31m\u001b[1mrequirements:\u001b[0m Ultralytics requirements ['sng4onnx>=1.0.1', 'onnx_graphsurgeon>=0.3.26', 'onnx>=1.12.0', 'onnx2tf>1.17.5,<=1.22.3', 'onnxslim>=0.1.31', 'tflite_support', 'onnxruntime-gpu'] not found, attempting AutoUpdate...\n",
            "Looking in indexes: https://pypi.org/simple, https://pypi.ngc.nvidia.com\n",
            "Collecting sng4onnx>=1.0.1\n",
            "  Downloading sng4onnx-1.0.4-py3-none-any.whl.metadata (4.6 kB)\n",
            "Collecting onnx_graphsurgeon>=0.3.26\n",
            "  Downloading onnx_graphsurgeon-0.5.2-py2.py3-none-any.whl.metadata (8.1 kB)\n",
            "Collecting onnx>=1.12.0\n",
            "  Downloading onnx-1.17.0-cp310-cp310-manylinux_2_17_x86_64.manylinux2014_x86_64.whl.metadata (16 kB)\n",
            "Collecting onnx2tf<=1.22.3,>1.17.5\n",
            "  Downloading onnx2tf-1.22.3-py3-none-any.whl.metadata (136 kB)\n",
            "     ━━━━━━━━━━━━━━━━━━━━━━━━━━━━━━━━━━━━━━━━ 136.6/136.6 kB 61.1 MB/s eta 0:00:00\n",
            "Collecting onnxslim>=0.1.31\n",
            "  Downloading onnxslim-0.1.39-py3-none-any.whl.metadata (2.9 kB)\n",
            "Collecting tflite_support\n",
            "  Downloading tflite_support-0.4.4-cp310-cp310-manylinux2014_x86_64.whl.metadata (2.4 kB)\n",
            "Collecting onnxruntime-gpu\n",
            "  Downloading onnxruntime_gpu-1.20.0-cp310-cp310-manylinux_2_27_x86_64.manylinux_2_28_x86_64.whl.metadata (4.4 kB)\n",
            "Requirement already satisfied: numpy in /usr/local/lib/python3.10/dist-packages (from onnx_graphsurgeon>=0.3.26) (1.26.4)\n",
            "Requirement already satisfied: protobuf>=3.20.2 in /usr/local/lib/python3.10/dist-packages (from onnx>=1.12.0) (4.25.5)\n",
            "Requirement already satisfied: sympy in /usr/local/lib/python3.10/dist-packages (from onnxslim>=0.1.31) (1.13.1)\n",
            "Requirement already satisfied: packaging in /usr/local/lib/python3.10/dist-packages (from onnxslim>=0.1.31) (24.2)\n",
            "Requirement already satisfied: absl-py>=0.7.0 in /usr/local/lib/python3.10/dist-packages (from tflite_support) (1.4.0)\n",
            "Requirement already satisfied: flatbuffers>=2.0 in /usr/local/lib/python3.10/dist-packages (from tflite_support) (24.3.25)\n",
            "Collecting protobuf>=3.20.2 (from onnx>=1.12.0)\n",
            "  Downloading protobuf-3.20.3-cp310-cp310-manylinux_2_12_x86_64.manylinux2010_x86_64.whl.metadata (679 bytes)\n",
            "Collecting sounddevice>=0.4.4 (from tflite_support)\n",
            "  Downloading sounddevice-0.5.1-py3-none-any.whl.metadata (1.4 kB)\n",
            "Collecting pybind11>=2.6.0 (from tflite_support)\n",
            "  Downloading pybind11-2.13.6-py3-none-any.whl.metadata (9.5 kB)\n",
            "Collecting coloredlogs (from onnxruntime-gpu)\n",
            "  Downloading coloredlogs-15.0.1-py2.py3-none-any.whl.metadata (12 kB)\n",
            "Requirement already satisfied: CFFI>=1.0 in /usr/local/lib/python3.10/dist-packages (from sounddevice>=0.4.4->tflite_support) (1.17.1)\n",
            "Collecting humanfriendly>=9.1 (from coloredlogs->onnxruntime-gpu)\n",
            "  Downloading humanfriendly-10.0-py2.py3-none-any.whl.metadata (9.2 kB)\n",
            "Requirement already satisfied: mpmath<1.4,>=1.1.0 in /usr/local/lib/python3.10/dist-packages (from sympy->onnxslim>=0.1.31) (1.3.0)\n",
            "Requirement already satisfied: pycparser in /usr/local/lib/python3.10/dist-packages (from CFFI>=1.0->sounddevice>=0.4.4->tflite_support) (2.22)\n",
            "Downloading sng4onnx-1.0.4-py3-none-any.whl (5.9 kB)\n",
            "Downloading onnx_graphsurgeon-0.5.2-py2.py3-none-any.whl (56 kB)\n",
            "   ━━━━━━━━━━━━━━━━━━━━━━━━━━━━━━━━━━━━━━━━ 56.4/56.4 kB 242.7 MB/s eta 0:00:00\n",
            "Downloading onnx-1.17.0-cp310-cp310-manylinux_2_17_x86_64.manylinux2014_x86_64.whl (16.0 MB)\n",
            "   ━━━━━━━━━━━━━━━━━━━━━━━━━━━━━━━━━━━━━━━━ 16.0/16.0 MB 263.0 MB/s eta 0:00:00\n",
            "Downloading onnx2tf-1.22.3-py3-none-any.whl (435 kB)\n",
            "   ━━━━━━━━━━━━━━━━━━━━━━━━━━━━━━━━━━━━━━━━ 435.0/435.0 kB 327.1 MB/s eta 0:00:00\n",
            "Downloading onnxslim-0.1.39-py3-none-any.whl (141 kB)\n",
            "   ━━━━━━━━━━━━━━━━━━━━━━━━━━━━━━━━━━━━━━━━ 141.8/141.8 kB 294.6 MB/s eta 0:00:00\n",
            "Downloading tflite_support-0.4.4-cp310-cp310-manylinux2014_x86_64.whl (60.8 MB)\n",
            "   ━━━━━━━━━━━━━━━━━━━━━━━━━━━━━━━━━━━━━━━━ 60.8/60.8 MB 136.1 MB/s eta 0:00:00\n",
            "Downloading onnxruntime_gpu-1.20.0-cp310-cp310-manylinux_2_27_x86_64.manylinux_2_28_x86_64.whl (291.5 MB)\n",
            "   ━━━━━━━━━━━━━━━━━━━━━━━━━━━━━━━━━━━━━━━━ 291.5/291.5 MB 237.6 MB/s eta 0:00:00\n",
            "Downloading protobuf-3.20.3-cp310-cp310-manylinux_2_12_x86_64.manylinux2010_x86_64.whl (1.1 MB)\n",
            "   ━━━━━━━━━━━━━━━━━━━━━━━━━━━━━━━━━━━━━━━━ 1.1/1.1 MB 248.3 MB/s eta 0:00:00\n",
            "Downloading pybind11-2.13.6-py3-none-any.whl (243 kB)\n",
            "   ━━━━━━━━━━━━━━━━━━━━━━━━━━━━━━━━━━━━━━━━ 243.3/243.3 kB 322.5 MB/s eta 0:00:00\n",
            "Downloading sounddevice-0.5.1-py3-none-any.whl (32 kB)\n",
            "Downloading coloredlogs-15.0.1-py2.py3-none-any.whl (46 kB)\n",
            "   ━━━━━━━━━━━━━━━━━━━━━━━━━━━━━━━━━━━━━━━━ 46.0/46.0 kB 226.0 MB/s eta 0:00:00\n",
            "Downloading humanfriendly-10.0-py2.py3-none-any.whl (86 kB)\n",
            "   ━━━━━━━━━━━━━━━━━━━━━━━━━━━━━━━━━━━━━━━━ 86.8/86.8 kB 86.0 MB/s eta 0:00:00\n",
            "Installing collected packages: sng4onnx, pybind11, protobuf, onnx2tf, humanfriendly, sounddevice, onnx, coloredlogs, tflite_support, onnxslim, onnxruntime-gpu, onnx_graphsurgeon\n",
            "  Attempting uninstall: protobuf\n",
            "    Found existing installation: protobuf 4.25.5\n",
            "    Uninstalling protobuf-4.25.5:\n",
            "      Successfully uninstalled protobuf-4.25.5\n",
            "Successfully installed coloredlogs-15.0.1 humanfriendly-10.0 onnx-1.17.0 onnx2tf-1.22.3 onnx_graphsurgeon-0.5.2 onnxruntime-gpu-1.20.0 onnxslim-0.1.39 protobuf-3.20.3 pybind11-2.13.6 sng4onnx-1.0.4 sounddevice-0.5.1 tflite_support-0.4.4\n",
            "\n",
            "\u001b[31m\u001b[1mrequirements:\u001b[0m AutoUpdate success ✅ 37.9s, installed 7 packages: ['sng4onnx>=1.0.1', 'onnx_graphsurgeon>=0.3.26', 'onnx>=1.12.0', 'onnx2tf>1.17.5,<=1.22.3', 'onnxslim>=0.1.31', 'tflite_support', 'onnxruntime-gpu']\n",
            "\u001b[31m\u001b[1mrequirements:\u001b[0m ⚠️ \u001b[1mRestart runtime or rerun command for updates to take effect\u001b[0m\n",
            "\n",
            "\n",
            "\u001b[34m\u001b[1mTensorFlow SavedModel:\u001b[0m starting export with tensorflow 2.17.1...\n",
            "Downloading https://github.com/ultralytics/assets/releases/download/v8.3.0/calibration_image_sample_data_20x128x128x3_float32.npy.zip to 'calibration_image_sample_data_20x128x128x3_float32.npy.zip'...\n"
          ]
        },
        {
          "output_type": "stream",
          "name": "stderr",
          "text": [
            "100%|██████████| 1.11M/1.11M [00:00<00:00, 122MB/s]\n",
            "Unzipping calibration_image_sample_data_20x128x128x3_float32.npy.zip to /content/calibration_image_sample_data_20x128x128x3_float32.npy...: 100%|██████████| 1/1 [00:00<00:00, 46.73file/s]"
          ]
        },
        {
          "output_type": "stream",
          "name": "stdout",
          "text": [
            "\n",
            "\u001b[34m\u001b[1mONNX:\u001b[0m starting export with onnx 1.17.0 opset 19...\n"
          ]
        },
        {
          "output_type": "stream",
          "name": "stderr",
          "text": [
            "\n"
          ]
        },
        {
          "output_type": "stream",
          "name": "stdout",
          "text": [
            "\u001b[34m\u001b[1mONNX:\u001b[0m slimming with onnxslim 0.1.39...\n",
            "\u001b[34m\u001b[1mONNX:\u001b[0m export success ✅ 1.2s, saved as '/content/runs/detect/train/weights/best.onnx' (11.8 MB)\n",
            "\u001b[34m\u001b[1mTensorFlow SavedModel:\u001b[0m starting TFLite export with onnx2tf 1.22.3...\n",
            "\u001b[34m\u001b[1mTensorFlow SavedModel:\u001b[0m export success ✅ 55.1s, saved as '/content/runs/detect/train/weights/best_saved_model' (29.5 MB)\n",
            "\n",
            "\u001b[34m\u001b[1mTensorFlow Lite:\u001b[0m starting export with tensorflow 2.17.1...\n",
            "\u001b[34m\u001b[1mTensorFlow Lite:\u001b[0m export success ✅ 0.0s, saved as '/content/runs/detect/train/weights/best_saved_model/best_float32.tflite' (11.7 MB)\n",
            "\n",
            "Export complete (56.9s)\n",
            "Results saved to \u001b[1m/content/runs/detect/train/weights\u001b[0m\n",
            "Predict:         yolo predict task=detect model=/content/runs/detect/train/weights/best_saved_model/best_float32.tflite imgsz=640  \n",
            "Validate:        yolo val task=detect model=/content/runs/detect/train/weights/best_saved_model/best_float32.tflite imgsz=640 data=/content/data.yaml  \n",
            "Visualize:       https://netron.app\n"
          ]
        },
        {
          "output_type": "execute_result",
          "data": {
            "text/plain": [
              "'/content/runs/detect/train/weights/best_saved_model/best_float32.tflite'"
            ],
            "application/vnd.google.colaboratory.intrinsic+json": {
              "type": "string"
            }
          },
          "metadata": {},
          "execution_count": 6
        }
      ]
    }
  ]
}